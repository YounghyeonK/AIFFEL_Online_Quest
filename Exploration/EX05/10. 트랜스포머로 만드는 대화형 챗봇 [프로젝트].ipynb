{
 "cells": [
  {
   "cell_type": "markdown",
   "id": "950db107",
   "metadata": {},
   "source": [
    "# 10. 트랜스포머로 만드는 대화형 챗봇 [프로젝트]\n",
    "---\n",
    "\n",
    "영어로 만들었던 챗봇을 한국어 데이터로 바꿔서 훈련시켜봅시다.\n",
    "\n",
    "1. 필요 함수들 설정\n",
    "2. 데이터 불러오기 및 전처리하기\n",
    "3. 모델 정의 및 학습하기\n",
    "4. 챗봇 테스트하기"
   ]
  },
  {
   "cell_type": "code",
   "execution_count": 1,
   "id": "ec7e87b7",
   "metadata": {},
   "outputs": [
    {
     "name": "stdout",
     "output_type": "stream",
     "text": [
      "2.6.0\n"
     ]
    }
   ],
   "source": [
    "# 필요한 패키지를 임포트\n",
    "import tensorflow as tf\n",
    "import tensorflow_datasets as tfds # TensorFlow Datasets 라이브러리를 가져온다. \n",
    "                                   # 이 라이브러리는 다양한 기계 학습 데이터셋을 쉽게 다운로드하고 사용할 수 있도록 도와준다.\n",
    "import os # 운영체제와 상호 작용하기 위한 os 모듈을 불러온다.\n",
    "import re # 정규 표현식을 사용하기 위한 re 모듈을 불러온다. 정규표현식은 문자열의 검색, 추출, 대체 등을 위한 강력한 도구이다.\n",
    "import numpy as np # NumPy 라이브러리를 불러온다. NumPy는 다차원 배열과 행렬 연산을 위한 파이썬 라이브러리로, 데이터 처리에 유용\n",
    "import matplotlib.pyplot as plt # Matplotlib 라이브러리를 가져온다. \n",
    "                                # Matplotlib은 데이터 시각화를 위한 라이브러리로, 그래프 및 차트를 그리는 데 사용\n",
    "\n",
    "    \n",
    "print(tf.__version__)"
   ]
  },
  {
   "cell_type": "markdown",
   "id": "d15b4dba",
   "metadata": {},
   "source": [
    "### 1. 필요 함수들 설정\n",
    "\n",
    "#### 1. 포지셔널 인코딩 레이어"
   ]
  },
  {
   "cell_type": "code",
   "execution_count": 2,
   "id": "1e1d4116",
   "metadata": {},
   "outputs": [
    {
     "name": "stdout",
     "output_type": "stream",
     "text": [
      "슝=3\n"
     ]
    }
   ],
   "source": [
    "# 포지셔널 인코딩 레이어 - 트랜스포머 모델에서 입력 데이터에 위치 정보를 부여하는 데 사용된다. \n",
    "# 포지셔널 인코딩은 단어의 순서를 고려하여 모델이 문장 내 단어의 상대적인 위치에 대한 정보를 학습할 수 있게 한다..\n",
    "class PositionalEncoding(tf.keras.layers.Layer): # 이 클래스는 tf.keras.layers.Layer 클래스를 상속받아 사용자 정의 레이어를 만든다\n",
    "\n",
    "  def __init__(self, position, d_model): # 클래스 초기화 메서드, position: 시퀀스의 최대 길이(최대 포지션), d_model: 모델의 임베딩 차원(하나의 포지션에 대한 차원)\n",
    "    super(PositionalEncoding, self).__init__()\n",
    "    self.pos_encoding = self.positional_encoding(position, d_model) # 포지셔널 인코딩 값을 계산하여 pos_encoding 변수에 저장, \n",
    "                                                                    # 이 값은 후에 입력 데이터에 더해져서 포지셔널 인코딩이 적용\n",
    "\n",
    "  def get_angles(self, position, i, d_model): # 각도를 계산하는 메서드, position은 시퀀스 내 각 위치, i는 임베딩 차원 내의 인덱스, d_model은 임베딩 차원\n",
    "    angles = 1 / tf.pow(10000, (2 * (i // 2)) / tf.cast(d_model, tf.float32))\n",
    "    return position * angles\n",
    "\n",
    "  def positional_encoding(self, position, d_model): # 포지셔널 인코딩 값을 계산하는 메서드, 각 위치 및 임베딩 차원에 대한 각도를 계산하고 sin과 cosine 함수를 적용하여 인코딩 값을 생성\n",
    "    # 각도 배열 생성\n",
    "    angle_rads = self.get_angles(\n",
    "        position=tf.range(position, dtype=tf.float32)[:, tf.newaxis],\n",
    "        i=tf.range(d_model, dtype=tf.float32)[tf.newaxis, :],\n",
    "        d_model=d_model) # get_angles 메서드를 사용하여 각 위치와 임베딩 차원에 대한 각도를 계산\n",
    "\n",
    "    # 배열의 짝수 인덱스에는 sin 함수 적용\n",
    "    sines = tf.math.sin(angle_rads[:, 0::2])\n",
    "    # 배열의 홀수 인덱스에는 cosine 함수 적용\n",
    "    cosines = tf.math.cos(angle_rads[:, 1::2]) # 계산된 각도를 이용하여 sin 함수 및 cosine 함수를 적용\n",
    "\n",
    "    # sin과 cosine이 교차되도록 재배열\n",
    "    pos_encoding = tf.stack([sines, cosines], axis=0) # sin과 cosine을 교차되도록 스택\n",
    "    pos_encoding = tf.transpose(pos_encoding,[1, 2, 0]) # 차원을 재배열\n",
    "    pos_encoding = tf.reshape(pos_encoding, [position, d_model]) # 최종적으로 포지셔널 인코딩 값을 정리\n",
    "\n",
    "    pos_encoding = pos_encoding[tf.newaxis, ...] # 포지셔널 인코딩 값을 배치 차원을 추가하여 확장\n",
    "    return tf.cast(pos_encoding, tf.float32) # 최종적으로 계산된 포지셔널 인코딩 값을 반환하며, 자료형을 tf.float32로 변환\n",
    "\n",
    "  def call(self, inputs): # 레이어를 호출할 때 실행되는 메서드, 입력에 포지셔널 인코딩 값을 더하여 반환. 이를 통해 입력 데이터에 상대적인 위치 정보가 부여\n",
    "    return inputs + self.pos_encoding[:, :tf.shape(inputs)[1], :]\n",
    "\n",
    "print(\"슝=3\")"
   ]
  },
  {
   "cell_type": "code",
   "execution_count": 3,
   "id": "0f96af84",
   "metadata": {},
   "outputs": [
    {
     "data": {
      "image/png": "[encoded data removed]",
      "text/plain": [
       "<Figure size 432x288 with 2 Axes>"
      ]
     },
     "metadata": {
      "needs_background": "light"
     },
     "output_type": "display_data"
    }
   ],
   "source": [
    "# 행의 크기가 50, 열의 크기가 512인 행렬을 만드는 코드를 완성하여 입력 벡터 모양을 시각화\n",
    "sample_pos_encoding = PositionalEncoding(50, 512)\n",
    "\n",
    "plt.pcolormesh(sample_pos_encoding.pos_encoding.numpy()[0], cmap='RdBu')\n",
    "plt.xlabel('Depth')\n",
    "plt.xlim((0, 512))\n",
    "plt.ylabel('Position')\n",
    "plt.colorbar()\n",
    "plt.show()"
   ]
  },
  {
   "cell_type": "markdown",
   "id": "b285b38e",
   "metadata": {},
   "source": [
    "#### 2. 스케일드 닷 프로덕트 어텐션 함수"
   ]
  },
  {
   "cell_type": "code",
   "execution_count": 4,
   "id": "1f5cf68e",
   "metadata": {},
   "outputs": [
    {
     "name": "stdout",
     "output_type": "stream",
     "text": [
      "슝=3\n"
     ]
    }
   ],
   "source": [
    "# 스케일드 닷 프로덕트 어텐션 함수 - 주어진 쿼리, 키, 밸류에 대한 어텐션 메커니즘을 적용(어텐션 함수와 직접적인 관련은 없다)\n",
    "def scaled_dot_product_attention(query, key, value, mask): # 어텐션 메커니즘을 사용하여 입력 쿼리(query), 키(key), 밸류(value)에 가중치를 부여하여 출력을 생성\n",
    "  # 어텐션 가중치는 Q와 K의 닷 프로덕트\n",
    "  matmul_qk = tf.matmul(query, key, transpose_b=True) # 쿼리와 키 간의 닷 프로덕트를 계산\n",
    "                                                      # (닷 프로덕트는 두 벡터 간의 내적을 의미하며, 여기서는 어텐션 가중치를 계산하는 주용한 부분이다.)\n",
    "\n",
    "  # 가중치를 정규화(스케일드 닷 프로덕트 어텐션에서 스케일링을 수행하는 부분)\n",
    "  depth = tf.cast(tf.shape(key)[-1], tf.float32)\n",
    "  logits = matmul_qk / tf.math.sqrt(depth) # 계산된 닷 프로덕트 값을 키 벡터의 차원 수로 나워 정규화\n",
    "\n",
    "  # 패딩에 마스크 추가\n",
    "  if mask is not None: # 만약 마스크('mask')가 주어졌다면, 패딩을 위해 어텐션 로짓에 마스크를 더한다.\n",
    "    logits += (mask * -1e9) # 이렇게 함으로써 어텐션 연산 시에 특정 위치를 무시할 수 있다.\n",
    "\n",
    "  # softmax적용\n",
    "  attention_weights = tf.nn.softmax(logits, axis=-1) # 정규화된 어텐션 로짓에 소프트맥스 함수를 적용하여 어텐션 가중치를 얻는다.\n",
    "                                                     # 소프트맥스 함수를 통해 각 키와 쿼리의 관련성을 확률로 표현 \n",
    "\n",
    "  # 최종 어텐션은 가중치와 V의 닷 프로덕트\n",
    "  output = tf.matmul(attention_weights, value) # 어텐션 가중치와 밸류('value')의 닷 프로덕트를 계산하여 어텐션 출력을 얻는다\n",
    "  return output # 최종 어텐션 출력을 반환\n",
    "\n",
    "print(\"슝=3\")"
   ]
  },
  {
   "cell_type": "markdown",
   "id": "0ee229b9",
   "metadata": {},
   "source": [
    "#### 3. 멀티 헤드 어텐션 구현 함수\n",
    "\n",
    "* 내부적으로는 스케일드 닷 프로덕트 어텐션 함수를 호출한다."
   ]
  },
  {
   "cell_type": "code",
   "execution_count": 5,
   "id": "7aae1e15",
   "metadata": {},
   "outputs": [
    {
     "name": "stdout",
     "output_type": "stream",
     "text": [
      "슝=3\n"
     ]
    }
   ],
   "source": [
    "# Multi-Head Attention: 여러 개의 어텐션 헤드를 사용해 입력에 대한 다양한 관점에서 정보를 추출하는 메커니즘\n",
    "class MultiHeadAttention(tf.keras.layers.Layer): # tf.keras.layers.Layer를 상속받아 Multi-Head Attention 레이어를 정의\n",
    "\n",
    "\n",
    "  def __init__(self, d_model, num_heads, name=\"multi_head_attention\"): # 클래스 초기화 메서드, \n",
    "                                                                       # 모델의 차원(d_model)과 헤드의 개수(num_heads)를 인자로 받는다\n",
    "    super(MultiHeadAttention, self).__init__(name=name)\n",
    "    self.num_heads = num_heads\n",
    "    self.d_model = d_model\n",
    "\n",
    "    assert d_model % self.num_heads == 0 # 입력 차원(d_model)이 헤드의 수로 나누어 떨어지지 않으면 예외를 발생시킴\n",
    "                                         # assert 문은 주어진 조건이 False인 경우 AssertionError 예외를 발생\n",
    "    self.depth = d_model // self.num_heads  # 각 헤드의 깊이(depth)를 계산\n",
    "\n",
    "    self.query_dense = tf.keras.layers.Dense(units=d_model) # Query, Key, Value, 그리고 최종 결과에 대한 Dense 레이어를 정의\n",
    "    self.key_dense = tf.keras.layers.Dense(units=d_model)\n",
    "    self.value_dense = tf.keras.layers.Dense(units=d_model)\n",
    "\n",
    "    self.dense = tf.keras.layers.Dense(units=d_model)\n",
    "\n",
    "  def split_heads(self, inputs, batch_size): # 주어진 입력을 여러 헤드로 나누는 메서드\n",
    "    inputs = tf.reshape(\n",
    "        inputs, shape=(batch_size, -1, self.num_heads, self.depth)) # 입력의 형태를 조정\n",
    "    return tf.transpose(inputs, perm=[0, 2, 1, 3]) # 특정 차원을 전치(transpose)하여 헤드를 나눔\n",
    "\n",
    "  def call(self, inputs): # 실제로 레이어를 호출하는 메서드\n",
    "    query, key, value, mask = inputs['query'], inputs['key'], inputs[\n",
    "        'value'], inputs['mask']\n",
    "    batch_size = tf.shape(query)[0] # 입력으로부터 query, key, value, 그리고 mask를 추출하고, 배치 크기를 가져옴\n",
    "\n",
    "    # Q, K, V에 각각 Dense를 적용합니다\n",
    "    query = self.query_dense(query)\n",
    "    key = self.key_dense(key)\n",
    "    value = self.value_dense(value)\n",
    "\n",
    "    # 병렬 연산을 위한 머리를 여러 개 만듭니다(각각의 헤드로 나누기 위해 split_heads 메서드를 호출)\n",
    "    query = self.split_heads(query, batch_size)\n",
    "    key = self.split_heads(key, batch_size)\n",
    "    value = self.split_heads(value, batch_size)\n",
    "\n",
    "    # 스케일드 닷 프로덕트 어텐션 함수\n",
    "    scaled_attention = scaled_dot_product_attention(query, key, value, mask) # 스케일드 닷 프로덕트 어텐션 함수를 호출하여 어텐션 연산을 수행\n",
    "\n",
    "    scaled_attention = tf.transpose(scaled_attention, perm=[0, 2, 1, 3]) # 어텐션 결과를 다시 정렬\n",
    "\n",
    "    # 어텐션 연산 후에 각 결과를 다시 연결(concatenate)합니다\n",
    "    concat_attention = tf.reshape(scaled_attention,\n",
    "                                  (batch_size, -1, self.d_model)) # 각 헤드의 결과를 다시 하나의 텐서로 결합\n",
    "\n",
    "    # 최종 결과에도 Dense를 한 번 더 적용합니다\n",
    "    outputs = self.dense(concat_attention)\n",
    "\n",
    "    return outputs # 최종 결과를 반환\n",
    "print(\"슝=3\")"
   ]
  },
  {
   "cell_type": "markdown",
   "id": "dabe607e",
   "metadata": {},
   "source": [
    "#### 4. 패딩 마스킹 구현 함수"
   ]
  },
  {
   "cell_type": "code",
   "execution_count": 6,
   "id": "f8f9f3d6",
   "metadata": {},
   "outputs": [
    {
     "name": "stdout",
     "output_type": "stream",
     "text": [
      "슝=3\n"
     ]
    }
   ],
   "source": [
    "# 패딩 마스크는 주로 트랜스포머 모델에서 어텐션 연산 시에 패딩된 토큰들을 무시하기 위해 사용\n",
    "def create_padding_mask(x): # 패딩된 부분을 감지하는 패딩 마스크를 생성하는 함수\n",
    "  mask = tf.cast(tf.math.equal(x, 0), tf.float32) # 입력 텐서 'x'와 0을 비교, \n",
    "                                                  # tf.math.equal은 입력과 0이 동일한지 여부를 검사하고, 동일하면 True를, 그렇지 않으면 False를 반환\n",
    "                                                  # 이전 단계에서 얻은 불리언 값을 부동 소수점 타입으로 변환(True는 1.0으로, False는 0.0으로 변환)\n",
    "  # (batch_size, 1, 1, sequence length)\n",
    "  return mask[:, tf.newaxis, tf.newaxis, :] # 마스크의 차원을 조정\n",
    "                                            # tf.newaxis는 새로운 축(axis)을 추가, tf.newaxis를 사용하여 마스크에 새로운 축을 추가\n",
    "                                            # 최종적으로 반환되는 마스크의 형태는 (batch_size, 1, 1, sequence_length)\n",
    "\n",
    "\n",
    "# 이 함수는 주로 토크나이저에서 패딩된 부분을 감지하고, 이를 통해 어텐션 연산에서 패딩 토큰들을 무시하도록 하는 데 사용됩니다. \n",
    "# 패딩 토큰들은 모델의 입력 시퀀스 길이를 맞추기 위해 추가된 것이지만, 어텐션 연산 시에는 무시되어야 합니다.\n"
   ]
  },
  {
   "cell_type": "markdown",
   "id": "6953aa8c",
   "metadata": {},
   "source": [
    "이 함수에 정수 시퀀스를 입력으로 하면, 이 함수는 숫자가 0인 부분을 체크한 벡터를 리턴한다.\n",
    "\n",
    "두 개의 정수 시퀀스를 입력으로 해보고, 각각 어떤 결과가 나오는지 보겠다."
   ]
  },
  {
   "cell_type": "code",
   "execution_count": 7,
   "id": "066af8d7",
   "metadata": {},
   "outputs": [
    {
     "name": "stdout",
     "output_type": "stream",
     "text": [
      "tf.Tensor(\n",
      "[[[[0. 0. 1. 0. 1.]]]\n",
      "\n",
      "\n",
      " [[[1. 1. 1. 0. 0.]]]], shape=(2, 1, 1, 5), dtype=float32)\n"
     ]
    }
   ],
   "source": [
    "print(create_padding_mask(tf.constant([[1, 2, 0, 3, 0], [0, 0, 0, 4, 5]])))"
   ]
  },
  {
   "cell_type": "markdown",
   "id": "1aa2707f",
   "metadata": {},
   "source": [
    "두 정수 시퀀스에 대해서 각각 결과가 출력되는데, 오직 숫자가 0인 위치에서만 숫자 1이 나오고 숫자 0이 아닌 위치에서는 숫자 0인 벡터를 출력한다.\n",
    "\n",
    "어텐션 연산 시에 패딩 마스킹을 참고하면 불필요하게 숫자 0을 참고하지 않게 할 수 있겠다."
   ]
  },
  {
   "cell_type": "code",
   "execution_count": 8,
   "id": "c9f275a4",
   "metadata": {},
   "outputs": [
    {
     "name": "stdout",
     "output_type": "stream",
     "text": [
      "슝=3\n"
     ]
    }
   ],
   "source": [
    "# 룩어헤드 마스크는 모델이 현재 위치 이후의 토큰을 참조하지 못하도록 만들어 모델이 미래의 정보를 사용하지 못하도록 한다.\n",
    "def create_look_ahead_mask(x):\n",
    "  seq_len = tf.shape(x)[1] # 입력 텐서 'x'의 시퀀스 길이를 가져온다, \n",
    "                           # tf.shape(x)[1]은 시퀀스의 두 번째 차원(토큰의 개수)의 크기를 나타낸다\n",
    "  look_ahead_mask = 1 - tf.linalg.band_part(tf.ones((seq_len, seq_len)), -1, 0) # tf.ones((seq_len, seq_len))는 모든 원소가 1인 행렬을 생성\n",
    "                                                                                # tf.linalg.band_part는 행렬의 특정 부분을 0으로 만드는데 사용됩니다. \n",
    "                                                                                # 여기서는 -1과 0을 인자로 전달하여 주 대각선 아래의 모든 원소를 0으로 만듦\n",
    "                                                                                # 1 - ...를 통해 주 대각선 아래의 부분이 1이 되고, 주 대각선과 그 위의 부분은 0이 되는 룩어헤드 마스크를 생성\n",
    "  padding_mask = create_padding_mask(x) # 이전에 정의한 create_padding_mask 함수를 사용하여 입력 시퀀스에 대한 패딩 마스크를 생성\n",
    "  return tf.maximum(look_ahead_mask, padding_mask) # 룩어헤드 마스크와 패딩 마스크 중에서 더 큰 값을 선택\n",
    "                                                   # 룩어헤드 마스크는 미래의 정보를 참조하지 못하게 하기 위해 사용되고, \n",
    "                                                   # 패딩 마스크는 패딩된 부분을 무시하기 위해 사용\n",
    "print(\"슝=3\")\n",
    "# 이 함수를 사용하면 모델이 현재 위치보다 이후의 정보를 참조하지 못하도록 하면서, 패딩된 부분도 적절히 처리할 수 있게 된다."
   ]
  },
  {
   "cell_type": "code",
   "execution_count": 9,
   "id": "786d7f77",
   "metadata": {},
   "outputs": [
    {
     "name": "stdout",
     "output_type": "stream",
     "text": [
      "tf.Tensor(\n",
      "[[[[0. 1. 1. 1. 1.]\n",
      "   [0. 0. 1. 1. 1.]\n",
      "   [0. 0. 0. 1. 1.]\n",
      "   [0. 0. 0. 0. 1.]\n",
      "   [0. 0. 0. 0. 0.]]]], shape=(1, 1, 5, 5), dtype=float32)\n"
     ]
    }
   ],
   "source": [
    "# 직접 입력을 넣어 테스트해 보자.\n",
    "\n",
    "print(create_look_ahead_mask(tf.constant([[1, 2, 3, 4, 5]])))"
   ]
  },
  {
   "cell_type": "markdown",
   "id": "6b0f2653",
   "metadata": {},
   "source": [
    "대각선의 형태로 숫자 1이 채워지는 것을 볼 수 있습니다. 그런데 이 마스킹과 패딩 마스킹은 별개이므로, 이 마스킹을 수행할 때 만약에 숫자 0인 단어가 있다면 이 또한 패딩 해야 합니다. 그래서 create_look_ahead_mask() 함수는 내부적으로 앞서 구현한 패딩 마스크 함수도 호출하고 있습니다.\n",
    "\n",
    "숫자 0이 포함되었을 경우에도 테스트해 봅시다."
   ]
  },
  {
   "cell_type": "code",
   "execution_count": 10,
   "id": "54dc3d65",
   "metadata": {},
   "outputs": [
    {
     "name": "stdout",
     "output_type": "stream",
     "text": [
      "tf.Tensor(\n",
      "[[[[1. 1. 1. 1. 1.]\n",
      "   [1. 0. 1. 1. 1.]\n",
      "   [1. 0. 0. 1. 1.]\n",
      "   [1. 0. 0. 0. 1.]\n",
      "   [1. 0. 0. 0. 0.]]]], shape=(1, 1, 5, 5), dtype=float32)\n"
     ]
    }
   ],
   "source": [
    "print(create_look_ahead_mask(tf.constant([[0, 5, 1, 5, 5]])))"
   ]
  },
  {
   "cell_type": "markdown",
   "id": "88bc0b16",
   "metadata": {},
   "source": [
    "#### 5. 인코더 레이어 함수"
   ]
  },
  {
   "cell_type": "code",
   "execution_count": 11,
   "id": "0617893e",
   "metadata": {},
   "outputs": [
    {
     "name": "stdout",
     "output_type": "stream",
     "text": [
      "슝=3\n"
     ]
    }
   ],
   "source": [
    "# 인코더 하나의 레이어를 함수로 구현.\n",
    "# 이 하나의 레이어 안에는 두 개의 서브 레이어가 존재합니다.\n",
    "def encoder_layer(units, d_model, num_heads, dropout, name=\"encoder_layer\"): # units: 두 번째 서브 레이어에서 사용되는 완전연결층의 출력 크기\n",
    "                                                                             # d_model: 모델의 차원 크기\n",
    "                                                                             # num_heads: 멀티 헤드 어텐션에서 사용되는 헤드의 개수\n",
    "                                                                             # dropout: Dropout을 적용하는 비율\n",
    "                                                                             # name: 레이어의 이름 (기본값은 \"encoder_layer\")\n",
    "  inputs = tf.keras.Input(shape=(None, d_model), name=\"inputs\") # inputs: 모델에 입력되는 시퀀스 데이터의 텐서\n",
    "\n",
    "  # 패딩 마스크 사용 - 패딩을 위한 마스크, 셀프 어텐션에서 사용\n",
    "  padding_mask = tf.keras.Input(shape=(1, 1, None), name=\"padding_mask\")\n",
    "\n",
    "  # 첫 번째 서브 레이어 : 멀티 헤드 어텐션 수행 (셀프 어텐션) \n",
    "  # 멀티 헤드 어텐션 레이어를 생성하고 입력으로 현재 레이어의 입력(inputs)과 패딩 마스크(padding_mask)를 사용하여 어텐션을 수행\n",
    "  attention = MultiHeadAttention( \n",
    "      d_model, num_heads, name=\"attention\")({\n",
    "          'query': inputs,\n",
    "          'key': inputs,\n",
    "          'value': inputs,\n",
    "          'mask': padding_mask\n",
    "      })\n",
    "\n",
    "  # 어텐션의 결과는 Dropout과 Layer Normalization이라는 훈련을 돕는 테크닉을 수행(어텐션의 결과에 대한 후처리)\n",
    "  attention = tf.keras.layers.Dropout(rate=dropout)(attention)\n",
    "  attention = tf.keras.layers.LayerNormalization(\n",
    "      epsilon=1e-6)(inputs + attention)\n",
    "\n",
    "  # 두 번째 서브 레이어 : 2개의 완전연결층 - 완전연결층을 사용하여 어텐션의 결과를 가공\n",
    "  outputs = tf.keras.layers.Dense(units=units, activation='relu')(attention)\n",
    "  outputs = tf.keras.layers.Dense(units=d_model)(outputs)\n",
    "\n",
    "  # 완전연결층의 결과는 Dropout과 LayerNormalization이라는 훈련을 돕는 테크닉을 수행(완전연결층 결과에 대한 후처리)\n",
    "  outputs = tf.keras.layers.Dropout(rate=dropout)(outputs)\n",
    "  outputs = tf.keras.layers.LayerNormalization(\n",
    "      epsilon=1e-6)(attention + outputs)\n",
    "\n",
    "  return tf.keras.Model( \n",
    "      inputs=[inputs, padding_mask], outputs=outputs, name=name) # 입력과 패딩 마스크를 받아 출력을 반환하는 새로운 모델을 생성하고 반환\n",
    "print(\"슝=3\")"
   ]
  },
  {
   "cell_type": "markdown",
   "id": "dc89c957",
   "metadata": {},
   "source": [
    "#### 6. 멀티 인코더 레이어"
   ]
  },
  {
   "cell_type": "code",
   "execution_count": 12,
   "id": "44968ec9",
   "metadata": {},
   "outputs": [
    {
     "name": "stdout",
     "output_type": "stream",
     "text": [
      "슝=3\n"
     ]
    }
   ],
   "source": [
    "def encoder(vocab_size, # 어휘 사이즈(단어 집합의 크기)\n",
    "            num_layers, # 인코더를 쌓는 데 사용할 인코더 레이어의 개수\n",
    "            units, # 인코더 레이어 내의 완전연결층의 출력 크기\n",
    "            d_model, # 모델의 차원 크기\n",
    "            num_heads, #  멀티 헤드 어텐션에서 사용되는 헤드의 개수\n",
    "            dropout, # Dropout을 적용하는 비율\n",
    "            name=\"encoder\"): # 레이어의 이름(기본값은\"encoder\")\n",
    "  inputs = tf.keras.Input(shape=(None,), name=\"inputs\") # inputs: 모델에 입력되는 시퀀스 데이터의 텐서\n",
    "\n",
    "  # 패딩 마스크 사용\n",
    "  padding_mask = tf.keras.Input(shape=(1, 1, None), name=\"padding_mask\") # padding_mask: 패딩을 위한 마스크, 셀프 어텐션에서 사용\n",
    "\n",
    "  # 임베딩 레이어 - 입력 데이터를 임베딩하는 데 사용되는 임베딩 레이어를 정의\n",
    "  embeddings = tf.keras.layers.Embedding(vocab_size, d_model)(inputs) # 임베딩 크기는 d_model이고, 루트(d_model)을 곱해줌으로써 스케일 조정을 수행\n",
    "  embeddings *= tf.math.sqrt(tf.cast(d_model, tf.float32)) \n",
    "\n",
    "  # 포지셔널 인코딩 - 포지셔널 인코딩을 적용하여 단어의 위치 정보를 모델에 추가\n",
    "  embeddings = PositionalEncoding(vocab_size, d_model)(embeddings)\n",
    "\n",
    "  outputs = tf.keras.layers.Dropout(rate=dropout)(embeddings) # 임베딩에 Dropout을 적용하여 훈련 중에 무작위로 일부 뉴런을 비활성화\n",
    "\n",
    "  # num_layers만큼 쌓아올린 인코더의 층.\n",
    "  for i in range(num_layers): # 지정된 개수(num_layers)만큼 인코더 레이어를 쌓아 올린다, 각 인코더 레이어에는 멀티 헤드 어텐션 및 완전연결층이 포함\n",
    "    outputs = encoder_layer(\n",
    "        units=units,\n",
    "        d_model=d_model,\n",
    "        num_heads=num_heads,\n",
    "        dropout=dropout,\n",
    "        name=\"encoder_layer_{}\".format(i),\n",
    "    )([outputs, padding_mask])\n",
    "\n",
    "  return tf.keras.Model(\n",
    "      inputs=[inputs, padding_mask], outputs=outputs, name=name) # 입력과 패딩 마스크를 받아 출력을 반환하는 새로운 모델을 생성하고 반환\n",
    "print(\"슝=3\")\n",
    "\n",
    "# 이 함수를 사용하면 트랜스포머의 인코더를 간편하게 구성할 수 있다."
   ]
  },
  {
   "cell_type": "markdown",
   "id": "e38e9781",
   "metadata": {},
   "source": [
    "#### 7. 디코더 레이어 함수"
   ]
  },
  {
   "cell_type": "code",
   "execution_count": 13,
   "id": "b28b4148",
   "metadata": {},
   "outputs": [
    {
     "name": "stdout",
     "output_type": "stream",
     "text": [
      "슝=3\n"
     ]
    }
   ],
   "source": [
    "# 디코더 하나의 레이어를 함수로 구현. - 주어진 파라미터를 기반으로 디코더 레이어를 생성하고 반환\n",
    "# 이 하나의 레이어 안에는 세 개의 서브 레이어가 존재합니다.\n",
    "def decoder_layer(units, d_model, num_heads, dropout, name=\"decoder_layer\"): # units: 완전연결층의 출력 크기\n",
    "                                                                             # d_model: 모델의 차원 크기\n",
    "                                                                             # num_heads: 멀티 헤드 어텐션에서 사용되는 헤드의 개수\n",
    "                                                                             # dropout: Dropout을 적용하는 비율\n",
    "                                                                             # name: 레이어의 이름 (기본값은 \"decoder_layer\")\n",
    "  inputs = tf.keras.Input(shape=(None, d_model), name=\"inputs\") # inputs: 디코더에 입력되는 시퀀스 데이터의 텐서\n",
    "  enc_outputs = tf.keras.Input(shape=(None, d_model), name=\"encoder_outputs\") # enc_outputs: 인코더의 출력 (인코더-디코더 어텐션에서 사용)\n",
    "  look_ahead_mask = tf.keras.Input( # look_ahead_mask: 셀프 어텐션에서 사용되는 마스크\n",
    "      shape=(1, None, None), name=\"look_ahead_mask\") \n",
    "  padding_mask = tf.keras.Input(shape=(1, 1, None), name='padding_mask') # padding_mask: 인코더-디코더 어텐션에서 사용되는 마스크\n",
    "\n",
    "  # 첫 번째 서브 레이어 : 멀티 헤드 어텐션 수행 (셀프 어텐션)\n",
    "  attention1 = MultiHeadAttention( # 셀프 어텐션 레이어를 생성\n",
    "      d_model, num_heads, name=\"attention_1\")(inputs={ # 현재 디코더 레이어의 입력(inputs)과 셀프 어텐션 마스크(look_ahead_mask)를 사용하여 어텐션을 수행\n",
    "          'query': inputs,\n",
    "          'key': inputs,\n",
    "          'value': inputs,\n",
    "          'mask': look_ahead_mask\n",
    "      })\n",
    "\n",
    "  # 멀티 헤드 어텐션의 결과는 LayerNormalization이라는 훈련을 돕는 테크닉을 수행(셀프 어텐션 결과에 대한 후처리)\n",
    "  attention1 = tf.keras.layers.LayerNormalization( # 셀프 어텐션의 결과에 대해 Layer Normalization을 수행\n",
    "      epsilon=1e-6)(attention1 + inputs)\n",
    "\n",
    "  # 두 번째 서브 레이어 : 마스크드 멀티 헤드 어텐션 수행 (인코더-디코더 어텐션) # 인코더-디코더 어텐션 레이어를 생성\n",
    "  attention2 = MultiHeadAttention(\n",
    "      d_model, num_heads, name=\"attention_2\")(inputs={ # 입력으로 셀프 어텐션의 결과(attention1), 인코더의 출력(enc_outputs), 및 패딩 마스크(padding_mask)를 사용하여 어텐션을 수행\n",
    "          'query': attention1,\n",
    "          'key': enc_outputs,\n",
    "          'value': enc_outputs,\n",
    "          'mask': padding_mask\n",
    "      })\n",
    "\n",
    "  # 마스크드 멀티 헤드 어텐션의 결과는\n",
    "  # Dropout과 LayerNormalization이라는 훈련을 돕는 테크닉을 수행(인코더-디코더 어텐션 결과에 대한 후처리)\n",
    "  attention2 = tf.keras.layers.Dropout(rate=dropout)(attention2)\n",
    "  attention2 = tf.keras.layers.LayerNormalization( # 인코더-디코더 어텐션의 결과에 대해 Dropout과 Layer Normalization을 수행\n",
    "      epsilon=1e-6)(attention2 + attention1)\n",
    "\n",
    "  # 세 번째 서브 레이어 : 2개의 완전연결층 - 완전연결층을 사용하여 어텐션의 결과를 가공\n",
    "  outputs = tf.keras.layers.Dense(units=units, activation='relu')(attention2)\n",
    "  outputs = tf.keras.layers.Dense(units=d_model)(outputs)\n",
    "\n",
    "  # 완전연결층의 결과는 Dropout과 LayerNormalization 수행(완전연결층 결과에 대한 후처리)\n",
    "  outputs = tf.keras.layers.Dropout(rate=dropout)(outputs) \n",
    "  outputs = tf.keras.layers.LayerNormalization( # 완전연결층의 결과에 대해 Dropout과 Layer Normalization을 수행\n",
    "      epsilon=1e-6)(outputs + attention2)\n",
    "\n",
    "  return tf.keras.Model(\n",
    "      inputs=[inputs, enc_outputs, look_ahead_mask, padding_mask],\n",
    "      outputs=outputs,\n",
    "      name=name) # 입력과 인코더의 출력, 어텐션 마스크들을 받아 출력을 반환하는 새로운 모델을 생성하고 반환\n",
    "        \n",
    "# 이 함수를 사용하여 디코더 레이어를 쌓아올리면 트랜스포머의 디코더가 완성\n",
    "print(\"슝=3\")"
   ]
  },
  {
   "cell_type": "markdown",
   "id": "5455a626",
   "metadata": {},
   "source": [
    "#### 8. 멀티 디코더 레이어"
   ]
  },
  {
   "cell_type": "code",
   "execution_count": 14,
   "id": "c103b1e5",
   "metadata": {},
   "outputs": [
    {
     "name": "stdout",
     "output_type": "stream",
     "text": [
      "슝=3\n"
     ]
    }
   ],
   "source": [
    "def decoder(vocab_size, # vocab_size: 어휘 사이즈 (단어 집합의 크기)\n",
    "            num_layers, # num_layers: 디코더를 쌓는 데 사용할 디코더 레이어의 개수\n",
    "            units,      # units: 디코더 레이어 내의 완전연결층의 출력 크기\n",
    "            d_model, # d_model: 모델의 차원 크기\n",
    "            num_heads, # num_heads: 멀티 헤드 어텐션에서 사용되는 헤드의 개수\n",
    "            dropout, # dropout: Dropout을 적용하는 비율\n",
    "            name='decoder'): # name: 레이어의 이름 (기본값은 \"decoder\")\n",
    "  inputs = tf.keras.Input(shape=(None,), name='inputs')  # inputs: 디코더에 입력되는 시퀀스 데이터의 텐서\n",
    "  enc_outputs = tf.keras.Input(shape=(None, d_model), name='encoder_outputs') # enc_outputs: 인코더의 출력 (인코더-디코더 어텐션에서 사용)\n",
    "  look_ahead_mask = tf.keras.Input( # look_ahead_mask: 셀프 어텐션에서 사용되는 마스크\n",
    "      shape=(1, None, None), name='look_ahead_mask') \n",
    "\n",
    "  # 패딩 마스크\n",
    "  padding_mask = tf.keras.Input(shape=(1, 1, None), name='padding_mask') # padding_mask: 인코더-디코더 어텐션에서 사용되는 마스크\n",
    "  \n",
    "  # 임베딩 레이어 - 입력 데이터를 임베딩하는 데 사용되는 임베딩 레이어를 정의\n",
    "  embeddings = tf.keras.layers.Embedding(vocab_size, d_model)(inputs)\n",
    "  embeddings *= tf.math.sqrt(tf.cast(d_model, tf.float32))\n",
    "\n",
    "  # 포지셔널 인코딩 - 포지셔널 인코딩을 적용\n",
    "  embeddings = PositionalEncoding(vocab_size, d_model)(embeddings)\n",
    "\n",
    "  # Dropout이라는 훈련을 돕는 테크닉을 수행\n",
    "  outputs = tf.keras.layers.Dropout(rate=dropout)(embeddings) # 임베딩에 Dropout을 적용하여 훈련 중에 무작위로 일부 뉴런을 비활성화\n",
    "\n",
    "  for i in range(num_layers): # 지정된 개수(num_layers)만큼 디코더 레이어를 쌓아 올린다\n",
    "                              # 각 디코더 레이어에는 멀티 헤드 어텐션, 인코더-디코더 어텐션, 완전연결층이 포함\n",
    "    outputs = decoder_layer(\n",
    "        units=units,\n",
    "        d_model=d_model,\n",
    "        num_heads=num_heads,\n",
    "        dropout=dropout,\n",
    "        name='decoder_layer_{}'.format(i),\n",
    "    )(inputs=[outputs, enc_outputs, look_ahead_mask, padding_mask])\n",
    "\n",
    "  return tf.keras.Model( # 입력과 인코더의 출력, 어텐션 마스크들을 받아 출력을 반환하는 새로운 모델을 생성하고 반환\n",
    "      inputs=[inputs, enc_outputs, look_ahead_mask, padding_mask],\n",
    "      outputs=outputs,\n",
    "      name=name)\n",
    "\n",
    "# 이 함수를 사용하면 트랜스포머의 디코더를 간편하게 구성\n",
    "\n",
    "print(\"슝=3\")"
   ]
  },
  {
   "attachments": {
    "image.png": {
     "image/png": "[encoded data removed]"
    }
   },
   "cell_type": "markdown",
   "id": "01258cfd",
   "metadata": {},
   "source": [
    "### 2. 데이터 불러오기 및 전처리하기\n",
    "\n",
    "한국어 챗봇 데이터는 송영숙님이 공개한 챗봇 데이터를 사용한다.\n",
    "\n",
    "이 데이터는 아래의 링크에서 다운로드할 수 있다.\n",
    "\n",
    "* [songys/Chatbot_data](https://github.com/songys/Chatbot_data/blob/master/ChatbotData.csv)\n",
    "\n",
    "![image.png](attachment:image.png)"
   ]
  },
  {
   "cell_type": "code",
   "execution_count": 15,
   "id": "a36073fc",
   "metadata": {},
   "outputs": [
    {
     "data": {
      "text/html": [
       "<div>\n",
       "<style scoped>\n",
       "    .dataframe tbody tr th:only-of-type {\n",
       "        vertical-align: middle;\n",
       "    }\n",
       "\n",
       "    .dataframe tbody tr th {\n",
       "        vertical-align: top;\n",
       "    }\n",
       "\n",
       "    .dataframe thead th {\n",
       "        text-align: right;\n",
       "    }\n",
       "</style>\n",
       "<table border=\"1\" class=\"dataframe\">\n",
       "  <thead>\n",
       "    <tr style=\"text-align: right;\">\n",
       "      <th></th>\n",
       "      <th>Q</th>\n",
       "      <th>A</th>\n",
       "      <th>label</th>\n",
       "    </tr>\n",
       "  </thead>\n",
       "  <tbody>\n",
       "    <tr>\n",
       "      <th>0</th>\n",
       "      <td>12시 땡!</td>\n",
       "      <td>하루가 또 가네요.</td>\n",
       "      <td>0</td>\n",
       "    </tr>\n",
       "    <tr>\n",
       "      <th>1</th>\n",
       "      <td>1지망 학교 떨어졌어</td>\n",
       "      <td>위로해 드립니다.</td>\n",
       "      <td>0</td>\n",
       "    </tr>\n",
       "    <tr>\n",
       "      <th>2</th>\n",
       "      <td>3박4일 놀러가고 싶다</td>\n",
       "      <td>여행은 언제나 좋죠.</td>\n",
       "      <td>0</td>\n",
       "    </tr>\n",
       "    <tr>\n",
       "      <th>3</th>\n",
       "      <td>3박4일 정도 놀러가고 싶다</td>\n",
       "      <td>여행은 언제나 좋죠.</td>\n",
       "      <td>0</td>\n",
       "    </tr>\n",
       "    <tr>\n",
       "      <th>4</th>\n",
       "      <td>PPL 심하네</td>\n",
       "      <td>눈살이 찌푸려지죠.</td>\n",
       "      <td>0</td>\n",
       "    </tr>\n",
       "  </tbody>\n",
       "</table>\n",
       "</div>"
      ],
      "text/plain": [
       "                 Q            A  label\n",
       "0           12시 땡!   하루가 또 가네요.      0\n",
       "1      1지망 학교 떨어졌어    위로해 드립니다.      0\n",
       "2     3박4일 놀러가고 싶다  여행은 언제나 좋죠.      0\n",
       "3  3박4일 정도 놀러가고 싶다  여행은 언제나 좋죠.      0\n",
       "4          PPL 심하네   눈살이 찌푸려지죠.      0"
      ]
     },
     "execution_count": 15,
     "metadata": {},
     "output_type": "execute_result"
    }
   ],
   "source": [
    "# 데이터 불러오기 및 데이터 확인\n",
    "import pandas as pd\n",
    "\n",
    "dataset_filepath = os.getenv('HOME') + '/aiffel/transformer_chatbot/data/ChatbotData .csv'\n",
    "data = pd.read_csv(dataset_filepath)\n",
    "data.head()"
   ]
  },
  {
   "cell_type": "code",
   "execution_count": 16,
   "id": "ac2cfbe6",
   "metadata": {},
   "outputs": [
    {
     "data": {
      "text/plain": [
       "11823"
      ]
     },
     "execution_count": 16,
     "metadata": {},
     "output_type": "execute_result"
    }
   ],
   "source": [
    "# 데이터 개수\n",
    "len(data)"
   ]
  },
  {
   "cell_type": "code",
   "execution_count": 17,
   "id": "221b8847",
   "metadata": {},
   "outputs": [
    {
     "name": "stdout",
     "output_type": "stream",
     "text": [
      "11823\n"
     ]
    }
   ],
   "source": [
    "# 사용할 샘플의 최대 개수\n",
    "MAX_SAMPLES = 11823\n",
    "print(MAX_SAMPLES)"
   ]
  },
  {
   "cell_type": "markdown",
   "id": "1819a546",
   "metadata": {},
   "source": [
    "#### 데이터 전처리"
   ]
  },
  {
   "cell_type": "code",
   "execution_count": 18,
   "id": "ec5f6f0a",
   "metadata": {},
   "outputs": [],
   "source": [
    "# 전처리 함수 \n",
    "def preprocess_sentence(sentence):\n",
    "    sentence = sentence.strip()\n",
    "    sentence = re.sub(r'[-=.#/!?:$}ㅠㅠ]', '', sentence) # 특수문자, 'ㅠㅠ'등의 표현을 전처리로 제거해 준다.\n",
    "    return sentence"
   ]
  },
  {
   "cell_type": "code",
   "execution_count": 19,
   "id": "3d8e8501",
   "metadata": {},
   "outputs": [],
   "source": [
    "# 대화 데이터셋을 로드하고,질문과 대답을 각각 전처리한 후 반환하는 함수(데이터셋으로부터 질문과 대답을 추출하고, 각각에 대해 전처리를 수행한 후 리스트에 담아 반환하는 역할)\n",
    "def load_conversations(): # 매개변수 없이 호출 가능한 함수\n",
    "    inputs, outputs = [], [] # inputs: 전처리된 질문을 저장할 리스트\n",
    "                             # outputs: 전처리된 대답을 저장할 리스트\n",
    "    \n",
    "    question = data['Q'] # 데이터셋에서 질문(Q)과 대답(A)에 해당하는 열을 추출\n",
    "    answer = data['A']\n",
    "    #labels = data['label']\n",
    "    \n",
    "    for _, line in enumerate(question):\n",
    "        inputs.append(preprocess_sentence(line)) # 각각의 질문과 대답에 대해 preprocess_sentence 함수를 사용하여 전처리를 수행하고, \n",
    "                                                 # 그 결과를 inputs 및 outputs 리스트에 추가\n",
    "                                                 # enumerate를 사용하여 라인 인덱스에 대응하는 반복문을 생성. \n",
    "                                                 # 실제 인덱스는 사용하지 않고 있다.\n",
    "    \n",
    "    for _, line in enumerate(answer):\n",
    "        outputs.append(preprocess_sentence(line)) # 전처리된 질문 리스트 inputs와 전처리된 대답 리스트 outputs를 반환\n",
    "        \n",
    "    return inputs, outputs"
   ]
  },
  {
   "cell_type": "code",
   "execution_count": 21,
   "id": "9db68b3e",
   "metadata": {},
   "outputs": [
    {
     "name": "stdout",
     "output_type": "stream",
     "text": [
      "전체 샘플 수 : 11823\n",
      "전체 샘플 수 : 11823\n"
     ]
    }
   ],
   "source": [
    "# 데이터를 로드하고 전처리하여 질문을 questions, 답변을 answers에 저장합니다.\n",
    "questions, answers = load_conversations()\n",
    "print('전체 샘플 수 :', len(questions)) # 샘플 수 확인\n",
    "print('전체 샘플 수 :', len(answers))"
   ]
  },
  {
   "cell_type": "markdown",
   "id": "f83ff605",
   "metadata": {},
   "source": [
    "질문과 답변은 병렬적으로 구성되는 데이터셋이므로 두 샘플 수는 정확하게 일치해야 한다.\n",
    "\n",
    "둘 다 11823개의 샘플이 저장되었다.\n",
    "\n",
    "임의로 22번째 샘플(인덱스 상으로는 21번 샘플)을 출력해서 질문과 답변이 병렬적으로 잘 저장은 되었는지, 그리고 전처리 함수에서 의도했던 전처리가 진행되었는지 확인해 보자!"
   ]
  },
  {
   "cell_type": "code",
   "execution_count": 22,
   "id": "33fa1424",
   "metadata": {},
   "outputs": [
    {
     "name": "stdout",
     "output_type": "stream",
     "text": [
      "전처리 후의 22번째 질문 샘플: 가스비 장난 아님\n",
      "전처리 후의 22번째 답변 샘플: 다음 달에는 더 절약해봐요\n"
     ]
    }
   ],
   "source": [
    "print('전처리 후의 22번째 질문 샘플: {}'.format(questions[21]))\n",
    "print('전처리 후의 22번째 답변 샘플: {}'.format(answers[21]))"
   ]
  },
  {
   "cell_type": "markdown",
   "id": "ddd1ed8e",
   "metadata": {},
   "source": [
    "전처리 후 데이터의 형태 확인해 보면, 특수문자들이 제거 된 것을 볼 수 있다."
   ]
  },
  {
   "cell_type": "markdown",
   "id": "b7bcb9ae",
   "metadata": {},
   "source": [
    "#### 단어장(Vocabulary) 만들기"
   ]
  },
  {
   "cell_type": "code",
   "execution_count": 23,
   "id": "67fbee52",
   "metadata": {},
   "outputs": [
    {
     "name": "stdout",
     "output_type": "stream",
     "text": [
      "살짝 오래 걸릴 수 있어요. 스트레칭 한 번 해볼까요? 👐\n",
      "슝=3 \n"
     ]
    }
   ],
   "source": [
    "import tensorflow_datasets as tfds\n",
    "print(\"살짝 오래 걸릴 수 있어요. 스트레칭 한 번 해볼까요? 👐\")\n",
    "\n",
    "# 질문과 답변 데이터셋에 대해서 Vocabulary 생성\n",
    "tokenizer = tfds.deprecated.text.SubwordTextEncoder.build_from_corpus(questions + answers, target_vocab_size=2**13)\n",
    "print(\"슝=3 \")"
   ]
  },
  {
   "cell_type": "markdown",
   "id": "58d4f140",
   "metadata": {},
   "source": [
    "이때 디코더의 문장 생성 과정에서 사용할 '시작 토큰'과 '종료 토큰'에 대해서도 임의로 단어장에 추가하여서 정수를 부여해 준다. 이미 생성된 단어장의 번호와 겹치지 않도록 각각 단어장의 크기와 그보다 1이 큰 수를 번호로 부여하면 되겠다."
   ]
  },
  {
   "cell_type": "code",
   "execution_count": 24,
   "id": "a815eb9c",
   "metadata": {},
   "outputs": [
    {
     "name": "stdout",
     "output_type": "stream",
     "text": [
      "슝=3\n"
     ]
    }
   ],
   "source": [
    "# 시작 토큰과 종료 토큰에 고유한 정수를 부여합니다.\n",
    "START_TOKEN, END_TOKEN = [tokenizer.vocab_size], [tokenizer.vocab_size + 1]\n",
    "print(\"슝=3\")"
   ]
  },
  {
   "cell_type": "markdown",
   "id": "de98841b",
   "metadata": {},
   "source": [
    "시작 토큰과 종료 토큰에 부여된 정수를 출력해보자."
   ]
  },
  {
   "cell_type": "code",
   "execution_count": 25,
   "id": "3c680e7f",
   "metadata": {},
   "outputs": [
    {
     "name": "stdout",
     "output_type": "stream",
     "text": [
      "START_TOKEN의 번호 : [8186]\n",
      "END_TOKEN의 번호 : [8187]\n"
     ]
    }
   ],
   "source": [
    "print('START_TOKEN의 번호 :' ,[tokenizer.vocab_size])\n",
    "print('END_TOKEN의 번호 :' ,[tokenizer.vocab_size + 1])"
   ]
  },
  {
   "cell_type": "markdown",
   "id": "5d9c98cf",
   "metadata": {},
   "source": [
    "각각 8186과 8187라는 점에서 현재 단어장의 크기가 8186(0번부터 8185번)이라는 의미입니다.\n",
    "\n",
    "두 개의 토큰을 추가해 주었기 때문에 단어장의 크기도 +2임을 명시해 주어야 합니다."
   ]
  },
  {
   "cell_type": "code",
   "execution_count": 27,
   "id": "d1e150ff",
   "metadata": {},
   "outputs": [
    {
     "name": "stdout",
     "output_type": "stream",
     "text": [
      "8188\n"
     ]
    }
   ],
   "source": [
    "# 시작 토큰과 종료 토큰을 고려하여 +2를 하여 단어장의 크기를 산정합니다.\n",
    "VOCAB_SIZE = tokenizer.vocab_size + 2\n",
    "print(VOCAB_SIZE)"
   ]
  },
  {
   "cell_type": "markdown",
   "id": "5526c214",
   "metadata": {},
   "source": [
    "#### 각 단어를 고유한 정수로 인코딩(Integer encoding) & 패딩(Padding)\n",
    "---\n",
    "위에서 tensorflow_datasets의 SubwordTextEncoder를 사용해서 tokenizer를 정의하고 Vocabulary를 만들었다면, tokenizer.encode()로 각 단어를 정수로 변환할 수 있고 또는 tokenizer.decode()를 통해 정수 시퀀스를 단어 시퀀스로 변환할 수 있다.\n",
    "\n",
    "예를 들어서 22번째 샘플을 tokenizer.encode()의 입력으로 사용해서 변환 결과를 보자."
   ]
  },
  {
   "cell_type": "code",
   "execution_count": 28,
   "id": "66a82e93",
   "metadata": {},
   "outputs": [
    {
     "name": "stdout",
     "output_type": "stream",
     "text": [
      "정수 인코딩 후의 21번째 질문 샘플: [5772, 607, 2489, 4162]\n",
      "정수 인코딩 후의 21번째 답변 샘플: [2348, 7522, 5, 6281, 103]\n"
     ]
    }
   ],
   "source": [
    "# 임의의 22번째 샘플에 대해서 정수 인코딩 작업을 수행.\n",
    "# 각 토큰을 고유한 정수로 변환\n",
    "print('정수 인코딩 후의 21번째 질문 샘플: {}'.format(tokenizer.encode(questions[21])))\n",
    "print('정수 인코딩 후의 21번째 답변 샘플: {}'.format(tokenizer.encode(answers[21])))"
   ]
  },
  {
   "cell_type": "markdown",
   "id": "9c1fee06",
   "metadata": {},
   "source": [
    "각 단어에 고유한 정수가 부여된 Vocabulary를 기준으로 단어 시퀀스가 정수 시퀀스로 인코딩된 결과를 확인할 수 있다. 위의 결과와 마찬가지로 질문과 답변 셋에 대해서 전부 정수 인코딩 을 수행한다. 이와 동시에 문장의 최대 길이를 정하고, 해당 길이로 패딩(padding) 한다."
   ]
  },
  {
   "cell_type": "code",
   "execution_count": 29,
   "id": "0d0f9df6",
   "metadata": {},
   "outputs": [
    {
     "name": "stdout",
     "output_type": "stream",
     "text": [
      "40\n"
     ]
    }
   ],
   "source": [
    "# 샘플의 최대 허용 길이 또는 패딩 후의 최종 길이\n",
    "MAX_LENGTH = 40\n",
    "print(MAX_LENGTH)"
   ]
  },
  {
   "cell_type": "code",
   "execution_count": 30,
   "id": "f1a98eab",
   "metadata": {},
   "outputs": [
    {
     "name": "stdout",
     "output_type": "stream",
     "text": [
      "슝=3\n"
     ]
    }
   ],
   "source": [
    "# 정수 인코딩, 최대 길이를 초과하는 샘플 제거, 패딩\n",
    "def tokenize_and_filter(inputs, outputs):\n",
    "  tokenized_inputs, tokenized_outputs = [], []\n",
    "  \n",
    "  for (sentence1, sentence2) in zip(inputs, outputs):\n",
    "    # 정수 인코딩 과정에서 시작 토큰과 종료 토큰을 추가\n",
    "    sentence1 = START_TOKEN + tokenizer.encode(sentence1) + END_TOKEN\n",
    "    sentence2 = START_TOKEN + tokenizer.encode(sentence2) + END_TOKEN\n",
    "\n",
    "    # 최대 길이 40 이하인 경우에만 데이터셋으로 허용\n",
    "    if len(sentence1) <= MAX_LENGTH and len(sentence2) <= MAX_LENGTH:\n",
    "      tokenized_inputs.append(sentence1)\n",
    "      tokenized_outputs.append(sentence2)\n",
    "  \n",
    "  # 최대 길이 40으로 모든 데이터셋을 패딩\n",
    "  tokenized_inputs = tf.keras.preprocessing.sequence.pad_sequences(\n",
    "      tokenized_inputs, maxlen=MAX_LENGTH, padding='post')\n",
    "  tokenized_outputs = tf.keras.preprocessing.sequence.pad_sequences(\n",
    "      tokenized_outputs, maxlen=MAX_LENGTH, padding='post')\n",
    "  \n",
    "  return tokenized_inputs, tokenized_outputs\n",
    "print(\"슝=3\")"
   ]
  },
  {
   "cell_type": "markdown",
   "id": "f8196b5a",
   "metadata": {},
   "source": [
    "정수 인코딩 과정을 수행하면서 샘플의 길이가 40을 넘는 경우는 샘플들을 필터링하였으므로 일부 샘플이 제외되었다. 단어장의 크기와 샘플의 개수를 확인해 보겠다."
   ]
  },
  {
   "cell_type": "code",
   "execution_count": 31,
   "id": "d06aafad",
   "metadata": {},
   "outputs": [
    {
     "name": "stdout",
     "output_type": "stream",
     "text": [
      "단어장의 크기 : 8188\n",
      "필터링 후의 질문 샘플 개수: 11823\n",
      "필터링 후의 답변 샘플 개수: 11823\n"
     ]
    }
   ],
   "source": [
    "questions, answers = tokenize_and_filter(questions, answers)\n",
    "print('단어장의 크기 :',(VOCAB_SIZE))\n",
    "print('필터링 후의 질문 샘플 개수: {}'.format(len(questions)))\n",
    "print('필터링 후의 답변 샘플 개수: {}'.format(len(answers)))"
   ]
  },
  {
   "cell_type": "markdown",
   "id": "d7e13219",
   "metadata": {},
   "source": [
    "#### 교사 강요(teaching forcing)\n",
    "---\n",
    "tf.data.Dataset API 는 훈련 프로세스의 속도가 빨라지도록 입력 파이프라인을 구축하는 API이다.\n",
    "\n",
    "이를 적극 사용하기 위해서 질문과 답변의 쌍을 tf.data.Dataset의 입력으로 넣어주는 작업을 한다.\n",
    "\n",
    "이때, 디코더의 입력과 실제값(레이블)을 정의해 주기 위해서는 교사 강요(Teacher Forcing) 이라는 언어 모델의 훈련 기법을 이해해야만 한다. 아래의 글을 통해 교사 강요에 대해 알아보자. (모두 읽을 필요는 없고, 교사 강요 부분까지만 읽어도 된다.)\n",
    "\n",
    "* [위키독스: RNN 언어 모델](https://wikidocs.net/46496)\n",
    "\n",
    "**Q. 교사 강요(Teacher Forcing) 를 사용하지 않았을 경우, 훈련 과정에서 훈련 속도가 지나치게 느려지는 경우가 있다고 합니다. 그 이유는 무엇인가요?**\n",
    ": 교사 강요를 하지 않은 경우, 잘못된 예측이 다음 시점(time step)의 입력으로 들어가면서 연쇄적으로 예측 정확도에 영향을 미친다.\n",
    "\n",
    "이전 자신의 출력이 현재 자신의 상태를 결정하는 모델을 자기회귀 모델(auto-regressive model, AR) 이라고 합니다. 앞서 교사 강요를 이해하기 위해 읽었던 글에 등장한 RNN 언어 모델은 대표적인 자기 회귀 모델의 예이며, 트랜스포머의 디코더 또한 자기회귀 모델입니다.\n",
    "\n",
    "트랜스포머 디코더에서도 교사 강요(Teacher Forcing) 를 적용합니다.\n",
    "\n",
    "**Q. 만약, answers의 한 샘플이 다음과 같았다고 해봅시다.**\n",
    "\n",
    "**샘플 : '<START_TOKEN> I AM A STUDENT <END_TOKEN> <PAD> <PAD> <PAD> <PAD>'**\n",
    "\n",
    "**<START_TOKEN>은 문장의 시작을 의미하는 시작 토큰, <END_TOKEN>은 문장의 끝을 의미하는 종료 토큰 <PAD>는 패딩을 위해 사용되는 패딩 토큰입니다.**\n",
    "\n",
    "**교사 강요를 적용하기 위해서 위 샘플을 디코더의 입력과 레이블로 사용한다고 하였을 때, 각각 어떻게 수정해서 입력과 레이블로 사용해야 할까요?**\n",
    "    \n",
    ": 입력 : <START_TOKEN> I AM A STUDENT <END_TOKEN> <PAD> <PAD> <PAD> 레이블 : I AM A STUDENT <END_TOKEN> <PAD> <PAD> <PAD> <PAD> \n",
    "    \n",
    "질문과 답변의 쌍을 tf.data.Dataset API의 입력으로 사용하여 파이프라인을 구성합니다. 이때, 교사 강요를 위해서 answers[:, :-1]를 디코더의 입력값, answers[:, 1:]를 디코더의 레이블로 사용합니다."
   ]
  },
  {
   "cell_type": "code",
   "execution_count": 32,
   "id": "e4b66ab4",
   "metadata": {},
   "outputs": [
    {
     "name": "stdout",
     "output_type": "stream",
     "text": [
      "슝=3\n"
     ]
    }
   ],
   "source": [
    "BATCH_SIZE = 64\n",
    "BUFFER_SIZE = 20000\n",
    "\n",
    "# 디코더는 이전의 target을 다음의 input으로 사용합니다.\n",
    "# 이에 따라 outputs에서는 START_TOKEN을 제거하겠습니다.\n",
    "dataset = tf.data.Dataset.from_tensor_slices((\n",
    "    {\n",
    "        'inputs': questions,\n",
    "        'dec_inputs': answers[:, :-1]\n",
    "    },\n",
    "    {\n",
    "        'outputs': answers[:, 1:]\n",
    "    },\n",
    "))\n",
    "\n",
    "dataset = dataset.cache()\n",
    "dataset = dataset.shuffle(BUFFER_SIZE)\n",
    "dataset = dataset.batch(BATCH_SIZE)\n",
    "dataset = dataset.prefetch(tf.data.experimental.AUTOTUNE)\n",
    "print(\"슝=3\")"
   ]
  },
  {
   "cell_type": "markdown",
   "id": "742dfe07",
   "metadata": {},
   "source": [
    "### 3. 모델 정의 및 학습하기\n",
    "\n",
    "이제 앞서 사용한 인코더 층 함수와 디코더 층 함수를 사용하여 트랜스포머 함수를 정의한다."
   ]
  },
  {
   "cell_type": "code",
   "execution_count": 33,
   "id": "c0b9754c",
   "metadata": {},
   "outputs": [
    {
     "name": "stdout",
     "output_type": "stream",
     "text": [
      "슝=3\n"
     ]
    }
   ],
   "source": [
    "# 트랜스포머 함수 정의\n",
    "def transformer(vocab_size, # vocab_size: 어휘 사이즈 (단어 집합의 크기)\n",
    "                num_layers, # num_layers: 인코더 및 디코더에 쌓을 레이어의 수\n",
    "                units, # units: 레이어 내의 완전연결층의 출력 크기\n",
    "                d_model, # d_model: 모델의 차원 크기\n",
    "                num_heads, # num_heads: 멀티 헤드 어텐션에서 사용되는 헤드의 개수\n",
    "                dropout, # dropout: Dropout을 적용하는 비율\n",
    "                name=\"transformer\"): # name: 모델의 이름 (기본값은 \"transformer\")\n",
    "  inputs = tf.keras.Input(shape=(None,), name=\"inputs\") # inputs: 인코더의 입력 데이터 (질문 등)\n",
    "  dec_inputs = tf.keras.Input(shape=(None,), name=\"dec_inputs\") # dec_inputs: 디코더의 입력 데이터 (이전 단어들의 번역 결과)\n",
    "\n",
    "  # 인코더에서 패딩을 위한 마스크\n",
    "  enc_padding_mask = tf.keras.layers.Lambda( # 인코더와 디코더에서 사용할 패딩 마스크 및 룩어헤드 마스크를 생성하는 Lambda 레이어를 정의\n",
    "      create_padding_mask, output_shape=(1, 1, None), \n",
    "      name='enc_padding_mask')(inputs)\n",
    "\n",
    "  # 디코더에서 미래의 토큰을 마스크 하기 위해서 사용합니다.\n",
    "  # 내부적으로 패딩 마스크도 포함되어져 있습니다.\n",
    "  look_ahead_mask = tf.keras.layers.Lambda(\n",
    "      create_look_ahead_mask,\n",
    "      output_shape=(1, None, None),\n",
    "      name='look_ahead_mask')(dec_inputs)\n",
    "\n",
    "  # 두 번째 어텐션 블록에서 인코더의 벡터들을 마스킹\n",
    "  # 디코더에서 패딩을 위한 마스크\n",
    "  dec_padding_mask = tf.keras.layers.Lambda(\n",
    "      create_padding_mask, output_shape=(1, 1, None),\n",
    "      name='dec_padding_mask')(inputs)\n",
    "\n",
    "  # 인코더\n",
    "  enc_outputs = encoder( # 앞서 정의한 encoder 함수를 호출하여 인코더를 생성하고, 입력과 패딩 마스크를 전달\n",
    "      vocab_size=vocab_size,\n",
    "      num_layers=num_layers,\n",
    "      units=units,\n",
    "      d_model=d_model,\n",
    "      num_heads=num_heads,\n",
    "      dropout=dropout,\n",
    "  )(inputs=[inputs, enc_padding_mask])\n",
    "\n",
    "  # 디코더\n",
    "  dec_outputs = decoder( # 앞서 정의한 decoder 함수를 호출하여 디코더를 생성하고, 디코더 입력, 인코더 출력, 룩어헤드 마스크, 디코더 패딩 마스크를 전달\n",
    "      vocab_size=vocab_size,\n",
    "      num_layers=num_layers,\n",
    "      units=units,\n",
    "      d_model=d_model,\n",
    "      num_heads=num_heads,\n",
    "      dropout=dropout,\n",
    "  )(inputs=[dec_inputs, enc_outputs, look_ahead_mask, dec_padding_mask])\n",
    "\n",
    "  # 완전연결층 - 디코더의 출력을 받아 완전연결층을 추가. 이 층은 최종 예측을 생성\n",
    "  outputs = tf.keras.layers.Dense(units=vocab_size, name=\"outputs\")(dec_outputs)\n",
    "\n",
    "  return tf.keras.Model(inputs=[inputs, dec_inputs], outputs=outputs, name=name) # 입력과 디코더 입력을 받아 출력을 반환하는 트랜스포머 모델을 생성하고 반환\n",
    "print(\"슝=3\")"
   ]
  },
  {
   "cell_type": "markdown",
   "id": "feca7f16",
   "metadata": {},
   "source": [
    "#### 모델 생성\n",
    "---\n",
    "\n",
    "num_layers, d-Model, units는 전부 사용자가 정할 수 있는 하이퍼파라미터 값이다.\n",
    "\n",
    "논문에서 num_layers는 6, d-Model은 512였지만, 빠르고 원활한 훈련을 위해 여기서는 각 하이퍼파라미터를 논문에서보다는 작은 값을 사용한다."
   ]
  },
  {
   "cell_type": "code",
   "execution_count": 34,
   "id": "f00e1915",
   "metadata": {},
   "outputs": [
    {
     "name": "stdout",
     "output_type": "stream",
     "text": [
      "Model: \"transformer\"\n",
      "__________________________________________________________________________________________________\n",
      "Layer (type)                    Output Shape         Param #     Connected to                     \n",
      "==================================================================================================\n",
      "inputs (InputLayer)             [(None, None)]       0                                            \n",
      "__________________________________________________________________________________________________\n",
      "dec_inputs (InputLayer)         [(None, None)]       0                                            \n",
      "__________________________________________________________________________________________________\n",
      "enc_padding_mask (Lambda)       (None, 1, 1, None)   0           inputs[0][0]                     \n",
      "__________________________________________________________________________________________________\n",
      "encoder (Functional)            (None, None, 256)    3150336     inputs[0][0]                     \n",
      "                                                                 enc_padding_mask[0][0]           \n",
      "__________________________________________________________________________________________________\n",
      "look_ahead_mask (Lambda)        (None, 1, None, None 0           dec_inputs[0][0]                 \n",
      "__________________________________________________________________________________________________\n",
      "dec_padding_mask (Lambda)       (None, 1, 1, None)   0           inputs[0][0]                     \n",
      "__________________________________________________________________________________________________\n",
      "decoder (Functional)            (None, None, 256)    3677696     dec_inputs[0][0]                 \n",
      "                                                                 encoder[0][0]                    \n",
      "                                                                 look_ahead_mask[0][0]            \n",
      "                                                                 dec_padding_mask[0][0]           \n",
      "__________________________________________________________________________________________________\n",
      "outputs (Dense)                 (None, None, 8188)   2104316     decoder[0][0]                    \n",
      "==================================================================================================\n",
      "Total params: 8,932,348\n",
      "Trainable params: 8,932,348\n",
      "Non-trainable params: 0\n",
      "__________________________________________________________________________________________________\n"
     ]
    }
   ],
   "source": [
    "tf.keras.backend.clear_session()\n",
    "\n",
    "# 하이퍼파라미터\n",
    "NUM_LAYERS = 2 # 인코더와 디코더의 층의 개수\n",
    "D_MODEL = 256 # 인코더와 디코더 내부의 입, 출력의 고정 차원\n",
    "NUM_HEADS = 8 # 멀티 헤드 어텐션에서의 헤드 수 \n",
    "UNITS = 512 # 피드 포워드 신경망의 은닉층의 크기\n",
    "DROPOUT = 0.1 # 드롭아웃의 비율\n",
    "\n",
    "model = transformer(\n",
    "    vocab_size=VOCAB_SIZE,\n",
    "    num_layers=NUM_LAYERS,\n",
    "    units=UNITS,\n",
    "    d_model=D_MODEL,\n",
    "    num_heads=NUM_HEADS,\n",
    "    dropout=DROPOUT)\n",
    "\n",
    "model.summary()"
   ]
  },
  {
   "cell_type": "markdown",
   "id": "6120bdee",
   "metadata": {},
   "source": [
    "#### 2. 손실 함수(Loss function)\n",
    "---\n",
    "\n",
    "레이블인 시퀀스에 패딩이 되어 있으므로, loss를 계산할 때 패딩 마스크를 적용해야 한다."
   ]
  },
  {
   "cell_type": "code",
   "execution_count": 35,
   "id": "d83b2f31",
   "metadata": {},
   "outputs": [
    {
     "name": "stdout",
     "output_type": "stream",
     "text": [
      "슝=3\n"
     ]
    }
   ],
   "source": [
    "def loss_function(y_true, y_pred):\n",
    "  y_true = tf.reshape(y_true, shape=(-1, MAX_LENGTH - 1))\n",
    "  \n",
    "  loss = tf.keras.losses.SparseCategoricalCrossentropy(\n",
    "      from_logits=True, reduction='none')(y_true, y_pred)\n",
    "\n",
    "  mask = tf.cast(tf.not_equal(y_true, 0), tf.float32)\n",
    "  loss = tf.multiply(loss, mask)\n",
    "\n",
    "  return tf.reduce_mean(loss)\n",
    "print(\"슝=3\")"
   ]
  },
  {
   "attachments": {
    "image.png": {
     "image/png": "[encoded data removed]"
    }
   },
   "cell_type": "markdown",
   "id": "b8990179",
   "metadata": {},
   "source": [
    "#### 3. 커스텀 된 학습률(Learning rate)\n",
    "---\n",
    "딥러닝 모델학습 시 learning rate는 매우 중요한 하이퍼파라미터이다. 최근에는 모델학습 초기에 learning rate를 급격히 높였다가, 이후 train step이 진행됨에 따라 서서히 낮추어 가면서 안정적으로 수렴하게 하는 고급 기법을 널리 사용하고 있다. 이런 방법을 커스텀 학습률 스케줄링(Custom Learning rate Scheduling)이라고 한다.\n",
    "\n",
    "논문에 나온 공식을 참고하여 커스텀 학습률 스케줄러를 통한 아담 옵티마이저를 사용한다. 논문에 나온 공식은 다음과 같다.\n",
    "![image.png](attachment:image.png)"
   ]
  },
  {
   "cell_type": "code",
   "execution_count": 36,
   "id": "96e0864d",
   "metadata": {},
   "outputs": [
    {
     "name": "stdout",
     "output_type": "stream",
     "text": [
      "슝=3\n"
     ]
    }
   ],
   "source": [
    "class CustomSchedule(tf.keras.optimizers.schedules.LearningRateSchedule):\n",
    "\n",
    "  def __init__(self, d_model, warmup_steps=4000):\n",
    "    super(CustomSchedule, self).__init__()\n",
    "\n",
    "    self.d_model = d_model\n",
    "    self.d_model = tf.cast(self.d_model, tf.float32)\n",
    "\n",
    "    self.warmup_steps = warmup_steps\n",
    "\n",
    "  def __call__(self, step):\n",
    "    arg1 = tf.math.rsqrt(step)\n",
    "    arg2 = step * (self.warmup_steps**-1.5)\n",
    "\n",
    "    return tf.math.rsqrt(self.d_model) * tf.math.minimum(arg1, arg2)\n",
    "print(\"슝=3\")"
   ]
  },
  {
   "attachments": {
    "image.png": {
     "image/png": "[encoded data removed]"
    }
   },
   "cell_type": "markdown",
   "id": "47eec459",
   "metadata": {},
   "source": [
    "![image.png](attachment:image.png)"
   ]
  },
  {
   "cell_type": "code",
   "execution_count": 37,
   "id": "3b701740",
   "metadata": {},
   "outputs": [
    {
     "data": {
      "text/plain": [
       "Text(0.5, 0, 'Train Step')"
      ]
     },
     "execution_count": 37,
     "metadata": {},
     "output_type": "execute_result"
    },
    {
     "data": {
      "image/png": "[encoded data removed]",
      "text/plain": [
       "<Figure size 432x288 with 1 Axes>"
      ]
     },
     "metadata": {
      "needs_background": "light"
     },
     "output_type": "display_data"
    }
   ],
   "source": [
    "sample_learning_rate = CustomSchedule(d_model=128)\n",
    "\n",
    "plt.plot(sample_learning_rate(tf.range(200000, dtype=tf.float32)))\n",
    "plt.ylabel(\"Learning Rate\")\n",
    "plt.xlabel(\"Train Step\")"
   ]
  },
  {
   "cell_type": "markdown",
   "id": "a4c22c0d",
   "metadata": {},
   "source": [
    "#### 모델 컴파일\n",
    "---\n",
    "손실 함수와 커스텀 된 학습률(learning rate)을 사용하여 모델을 컴파일한다."
   ]
  },
  {
   "cell_type": "code",
   "execution_count": 38,
   "id": "06c74a93",
   "metadata": {},
   "outputs": [
    {
     "name": "stdout",
     "output_type": "stream",
     "text": [
      "슝=3\n"
     ]
    }
   ],
   "source": [
    "learning_rate = CustomSchedule(D_MODEL)\n",
    "\n",
    "optimizer = tf.keras.optimizers.Adam(\n",
    "    learning_rate, beta_1=0.9, beta_2=0.98, epsilon=1e-9)\n",
    "\n",
    "def accuracy(y_true, y_pred):\n",
    "  y_true = tf.reshape(y_true, shape=(-1, MAX_LENGTH - 1))\n",
    "  return tf.keras.metrics.sparse_categorical_accuracy(y_true, y_pred)\n",
    "\n",
    "model.compile(optimizer=optimizer, loss=loss_function, metrics=[accuracy])\n",
    "print(\"슝=3\")"
   ]
  },
  {
   "cell_type": "markdown",
   "id": "386107a6",
   "metadata": {},
   "source": [
    "#### 훈련하기\n",
    "---\n",
    "이제 학습을 진행해 보자."
   ]
  },
  {
   "cell_type": "code",
   "execution_count": 39,
   "id": "b7dd0cf5",
   "metadata": {},
   "outputs": [
    {
     "name": "stdout",
     "output_type": "stream",
     "text": [
      "Epoch 1/20\n",
      "185/185 [==============================] - 28s 53ms/step - loss: 1.2534 - accuracy: 0.0211\n",
      "Epoch 2/20\n",
      "185/185 [==============================] - 10s 53ms/step - loss: 1.0868 - accuracy: 0.0256\n",
      "Epoch 3/20\n",
      "185/185 [==============================] - 10s 52ms/step - loss: 0.9916 - accuracy: 0.0262\n",
      "Epoch 4/20\n",
      "185/185 [==============================] - 10s 53ms/step - loss: 0.9208 - accuracy: 0.0298\n",
      "Epoch 5/20\n",
      "185/185 [==============================] - 10s 53ms/step - loss: 0.8610 - accuracy: 0.0334\n",
      "Epoch 6/20\n",
      "185/185 [==============================] - 10s 53ms/step - loss: 0.7999 - accuracy: 0.0379\n",
      "Epoch 7/20\n",
      "185/185 [==============================] - 10s 53ms/step - loss: 0.7331 - accuracy: 0.0444\n",
      "Epoch 8/20\n",
      "185/185 [==============================] - 10s 53ms/step - loss: 0.6597 - accuracy: 0.0524\n",
      "Epoch 9/20\n",
      "185/185 [==============================] - 10s 53ms/step - loss: 0.5813 - accuracy: 0.0605\n",
      "Epoch 10/20\n",
      "185/185 [==============================] - 10s 54ms/step - loss: 0.4986 - accuracy: 0.0699\n",
      "Epoch 11/20\n",
      "185/185 [==============================] - 10s 53ms/step - loss: 0.4158 - accuracy: 0.0802\n",
      "Epoch 12/20\n",
      "185/185 [==============================] - 10s 53ms/step - loss: 0.3357 - accuracy: 0.0915\n",
      "Epoch 13/20\n",
      "185/185 [==============================] - 10s 53ms/step - loss: 0.2621 - accuracy: 0.1019\n",
      "Epoch 14/20\n",
      "185/185 [==============================] - 10s 53ms/step - loss: 0.1981 - accuracy: 0.1120\n",
      "Epoch 15/20\n",
      "185/185 [==============================] - 10s 53ms/step - loss: 0.1452 - accuracy: 0.1211\n",
      "Epoch 16/20\n",
      "185/185 [==============================] - 10s 53ms/step - loss: 0.1037 - accuracy: 0.1286\n",
      "Epoch 17/20\n",
      "185/185 [==============================] - 10s 53ms/step - loss: 0.0765 - accuracy: 0.1334\n",
      "Epoch 18/20\n",
      "185/185 [==============================] - 10s 53ms/step - loss: 0.0589 - accuracy: 0.1368\n",
      "Epoch 19/20\n",
      "185/185 [==============================] - 10s 53ms/step - loss: 0.0504 - accuracy: 0.1379\n",
      "Epoch 20/20\n",
      "185/185 [==============================] - 10s 53ms/step - loss: 0.0446 - accuracy: 0.1389\n"
     ]
    },
    {
     "data": {
      "text/plain": [
       "<keras.callbacks.History at 0x7f3fe4195040>"
      ]
     },
     "execution_count": 39,
     "metadata": {},
     "output_type": "execute_result"
    }
   ],
   "source": [
    "EPOCHS = 20\n",
    "model.fit(dataset, epochs=EPOCHS, verbose=1)"
   ]
  },
  {
   "cell_type": "markdown",
   "id": "ff41606d",
   "metadata": {},
   "source": [
    "### 4. 챗봇 테스트하기\n",
    "\n",
    "예측(inference) 단계는 기본적으로 다음과 같은 과정을 거친다.\n",
    "\n",
    "1. 새로운 입력 문장에 대해서는 훈련 때와 동일한 전처리를 거친다.\n",
    "2. 입력 문장을 토크나이징하고, START_TOKEN과 END_TOKEN을 추가한다.\n",
    "3. 패딩 마스킹과 룩 어헤드 마스킹을 계산한다.\n",
    "4. 디코더는 입력 시퀀스로부터 다음 단어를 예측한다.\n",
    "5. 디코더는 예측된 다음 단어를 기존의 입력 시퀀스에 추가하여 새로운 입력으로 사용한다.\n",
    "6. END_TOKEN이 예측되거나 문장의 최대 길이에 도달하면 디코더는 동작을 멈춘다.\n",
    "\n",
    "위의 과정을 모두 담은 decoder_inference() 함수를 만든다."
   ]
  },
  {
   "cell_type": "code",
   "execution_count": 40,
   "id": "4fe91d1d",
   "metadata": {},
   "outputs": [
    {
     "name": "stdout",
     "output_type": "stream",
     "text": [
      "슝=3\n"
     ]
    }
   ],
   "source": [
    "def decoder_inference(sentence):\n",
    "  sentence = preprocess_sentence(sentence)\n",
    "\n",
    "  # 입력된 문장을 정수 인코딩 후, 시작 토큰과 종료 토큰을 앞뒤로 추가.\n",
    "  # ex) Where have you been? → [[8331   86   30    5 1059    7 8332]]\n",
    "  sentence = tf.expand_dims(\n",
    "      START_TOKEN + tokenizer.encode(sentence) + END_TOKEN, axis=0)\n",
    "\n",
    "  # 디코더의 현재까지의 예측한 출력 시퀀스가 지속적으로 저장되는 변수.\n",
    "  # 처음에는 예측한 내용이 없음으로 시작 토큰만 별도 저장. ex) 8331\n",
    "  output_sequence = tf.expand_dims(START_TOKEN, 0)\n",
    "\n",
    "  # 디코더의 인퍼런스 단계\n",
    "  for i in range(MAX_LENGTH):\n",
    "    # 디코더는 최대 MAX_LENGTH의 길이만큼 다음 단어 예측을 반복합니다.\n",
    "    predictions = model(inputs=[sentence, output_sequence], training=False)\n",
    "    predictions = predictions[:, -1:, :]\n",
    "\n",
    "    # 현재 예측한 단어의 정수\n",
    "    predicted_id = tf.cast(tf.argmax(predictions, axis=-1), tf.int32)\n",
    "\n",
    "    # 만약 현재 예측한 단어가 종료 토큰이라면 for문을 종료\n",
    "    if tf.equal(predicted_id, END_TOKEN[0]):\n",
    "      break\n",
    "\n",
    "    # 예측한 단어들은 지속적으로 output_sequence에 추가됩니다.\n",
    "    # 이 output_sequence는 다시 디코더의 입력이 됩니다.\n",
    "    output_sequence = tf.concat([output_sequence, predicted_id], axis=-1)\n",
    "\n",
    "  return tf.squeeze(output_sequence, axis=0)\n",
    "print(\"슝=3\")"
   ]
  },
  {
   "cell_type": "markdown",
   "id": "a9f74f08",
   "metadata": {},
   "source": [
    "임의의 입력 문장에 대해서 decoder_inference() 함수를 호출하여 챗봇의 대답을 얻는 sentence_generation() 함수를 만든다."
   ]
  },
  {
   "cell_type": "code",
   "execution_count": 41,
   "id": "c7039fb5",
   "metadata": {},
   "outputs": [
    {
     "name": "stdout",
     "output_type": "stream",
     "text": [
      "슝=3\n"
     ]
    }
   ],
   "source": [
    "def sentence_generation(sentence):\n",
    "  # 입력 문장에 대해서 디코더를 동작 시켜 예측된 정수 시퀀스를 리턴받습니다.\n",
    "  prediction = decoder_inference(sentence)\n",
    "\n",
    "  # 정수 시퀀스를 다시 텍스트 시퀀스로 변환합니다.\n",
    "  predicted_sentence = tokenizer.decode(\n",
    "      [i for i in prediction if i < tokenizer.vocab_size])\n",
    "\n",
    "  print('입력 : {}'.format(sentence))\n",
    "  print('출력 : {}'.format(predicted_sentence))\n",
    "\n",
    "  return predicted_sentence\n",
    "print(\"슝=3\")"
   ]
  },
  {
   "cell_type": "markdown",
   "id": "d4f8c238",
   "metadata": {},
   "source": [
    "#### 임의의 문장으로부터 챗봇의 대답을 얻어보자."
   ]
  },
  {
   "cell_type": "code",
   "execution_count": 42,
   "id": "f1e4a36c",
   "metadata": {},
   "outputs": [
    {
     "name": "stdout",
     "output_type": "stream",
     "text": [
      "입력 : 심심하다\n",
      "출력 : 저랑 놀아요\n"
     ]
    },
    {
     "data": {
      "text/plain": [
       "'저랑 놀아요'"
      ]
     },
     "execution_count": 42,
     "metadata": {},
     "output_type": "execute_result"
    }
   ],
   "source": [
    "sentence_generation('심심하다')"
   ]
  },
  {
   "cell_type": "code",
   "execution_count": 43,
   "id": "a2084b19",
   "metadata": {},
   "outputs": [
    {
     "name": "stdout",
     "output_type": "stream",
     "text": [
      "입력 : 공부는 어려워\n",
      "출력 : 확신이 없나봐요\n"
     ]
    },
    {
     "data": {
      "text/plain": [
       "'확신이 없나봐요'"
      ]
     },
     "execution_count": 43,
     "metadata": {},
     "output_type": "execute_result"
    }
   ],
   "source": [
    "sentence_generation('공부는 어려워')"
   ]
  },
  {
   "cell_type": "code",
   "execution_count": 44,
   "id": "481a5956",
   "metadata": {},
   "outputs": [
    {
     "name": "stdout",
     "output_type": "stream",
     "text": [
      "입력 : 배고파\n",
      "출력 : 뭐 좀 챙겨드세요\n"
     ]
    },
    {
     "data": {
      "text/plain": [
       "'뭐 좀 챙겨드세요'"
      ]
     },
     "execution_count": 44,
     "metadata": {},
     "output_type": "execute_result"
    }
   ],
   "source": [
    "sentence_generation('배고파')"
   ]
  },
  {
   "cell_type": "code",
   "execution_count": 45,
   "id": "cd880d02",
   "metadata": {},
   "outputs": [
    {
     "name": "stdout",
     "output_type": "stream",
     "text": [
      "입력 : 강아지 좋아해?\n",
      "출력 : 마음이 따뜻할 것 같아요\n"
     ]
    },
    {
     "data": {
      "text/plain": [
       "'마음이 따뜻할 것 같아요'"
      ]
     },
     "execution_count": 45,
     "metadata": {},
     "output_type": "execute_result"
    }
   ],
   "source": [
    "sentence_generation('강아지 좋아해?')"
   ]
  },
  {
   "cell_type": "code",
   "execution_count": 46,
   "id": "38d1fc92",
   "metadata": {},
   "outputs": [
    {
     "name": "stdout",
     "output_type": "stream",
     "text": [
      "입력 : 주말에 뭐 할까?\n",
      "출력 : 저랑 놀아요\n"
     ]
    },
    {
     "data": {
      "text/plain": [
       "'저랑 놀아요'"
      ]
     },
     "execution_count": 46,
     "metadata": {},
     "output_type": "execute_result"
    }
   ],
   "source": [
    "sentence_generation('주말에 뭐 할까?')"
   ]
  },
  {
   "cell_type": "code",
   "execution_count": 47,
   "id": "ed40189a",
   "metadata": {},
   "outputs": [
    {
     "name": "stdout",
     "output_type": "stream",
     "text": [
      "입력 : 피곤하다\n",
      "출력 : 시간적 여유가 생겨서 그런가봐요\n"
     ]
    },
    {
     "data": {
      "text/plain": [
       "'시간적 여유가 생겨서 그런가봐요'"
      ]
     },
     "execution_count": 47,
     "metadata": {},
     "output_type": "execute_result"
    }
   ],
   "source": [
    "sentence_generation('피곤하다')"
   ]
  },
  {
   "cell_type": "code",
   "execution_count": 49,
   "id": "70723d9f",
   "metadata": {},
   "outputs": [
    {
     "name": "stdout",
     "output_type": "stream",
     "text": [
      "입력 : 어떻게 하면 건강할까?\n",
      "출력 : 주기적으로 해주는 게 좋죠\n"
     ]
    },
    {
     "data": {
      "text/plain": [
       "'주기적으로 해주는 게 좋죠'"
      ]
     },
     "execution_count": 49,
     "metadata": {},
     "output_type": "execute_result"
    }
   ],
   "source": [
    "sentence_generation('어떻게 하면 건강할까?')"
   ]
  },
  {
   "cell_type": "code",
   "execution_count": 50,
   "id": "3d1d829d",
   "metadata": {},
   "outputs": [
    {
     "name": "stdout",
     "output_type": "stream",
     "text": [
      "입력 : 돈 많이 벌고 싶다\n",
      "출력 : 저도요\n"
     ]
    },
    {
     "data": {
      "text/plain": [
       "'저도요'"
      ]
     },
     "execution_count": 50,
     "metadata": {},
     "output_type": "execute_result"
    }
   ],
   "source": [
    "sentence_generation('돈 많이 벌고 싶다')"
   ]
  },
  {
   "cell_type": "code",
   "execution_count": 51,
   "id": "37fcab0e",
   "metadata": {},
   "outputs": [
    {
     "name": "stdout",
     "output_type": "stream",
     "text": [
      "입력 : 오늘 날씨 어때?\n",
      "출력 : 날씨 어플에 물어보세요\n"
     ]
    },
    {
     "data": {
      "text/plain": [
       "'날씨 어플에 물어보세요'"
      ]
     },
     "execution_count": 51,
     "metadata": {},
     "output_type": "execute_result"
    }
   ],
   "source": [
    "sentence_generation('오늘 날씨 어때?')"
   ]
  },
  {
   "cell_type": "markdown",
   "id": "39614f29",
   "metadata": {},
   "source": [
    "* 전반적으로 답변들이 괜찮지만, 아쉬운 답변도 있다. ('어떻게 하면 건강할까? - 주기적으로 해주는 게 좋죠 등)\n",
    "* 좀 더 학습을 해보자.\n",
    "    * NUM_LAYERS = 4 (인코더와 디코더의 층의 개수 : 2 -> 4)\n",
    "    * D_MODEL = 512 (인코더와 디코더 내부의 입, 출력의 고정 차원 : 256 -> 512)\n",
    "    * EPOCHS = 20 -> 100"
   ]
  },
  {
   "cell_type": "code",
   "execution_count": 55,
   "id": "7e163246",
   "metadata": {},
   "outputs": [
    {
     "name": "stdout",
     "output_type": "stream",
     "text": [
      "Model: \"transformer\"\n",
      "__________________________________________________________________________________________________\n",
      "Layer (type)                    Output Shape         Param #     Connected to                     \n",
      "==================================================================================================\n",
      "inputs (InputLayer)             [(None, None)]       0                                            \n",
      "__________________________________________________________________________________________________\n",
      "dec_inputs (InputLayer)         [(None, None)]       0                                            \n",
      "__________________________________________________________________________________________________\n",
      "enc_padding_mask (Lambda)       (None, 1, 1, None)   0           inputs[0][0]                     \n",
      "__________________________________________________________________________________________________\n",
      "encoder (Functional)            (None, None, 512)    10504192    inputs[0][0]                     \n",
      "                                                                 enc_padding_mask[0][0]           \n",
      "__________________________________________________________________________________________________\n",
      "look_ahead_mask (Lambda)        (None, 1, None, None 0           dec_inputs[0][0]                 \n",
      "__________________________________________________________________________________________________\n",
      "dec_padding_mask (Lambda)       (None, 1, 1, None)   0           inputs[0][0]                     \n",
      "__________________________________________________________________________________________________\n",
      "decoder (Functional)            (None, None, 512)    14710784    dec_inputs[0][0]                 \n",
      "                                                                 encoder[0][0]                    \n",
      "                                                                 look_ahead_mask[0][0]            \n",
      "                                                                 dec_padding_mask[0][0]           \n",
      "__________________________________________________________________________________________________\n",
      "outputs (Dense)                 (None, None, 8188)   4200444     decoder[0][0]                    \n",
      "==================================================================================================\n",
      "Total params: 29,415,420\n",
      "Trainable params: 29,415,420\n",
      "Non-trainable params: 0\n",
      "__________________________________________________________________________________________________\n"
     ]
    }
   ],
   "source": [
    "tf.keras.backend.clear_session()\n",
    "\n",
    "# 하이퍼파라미터\n",
    "NUM_LAYERS = 4 # 인코더와 디코더의 층의 개수\n",
    "D_MODEL = 512 # 인코더와 디코더 내부의 입, 출력의 고정 차원\n",
    "NUM_HEADS = 8 # 멀티 헤드 어텐션에서의 헤드 수 \n",
    "UNITS = 512 # 피드 포워드 신경망의 은닉층의 크기\n",
    "DROPOUT = 0.1 # 드롭아웃의 비율\n",
    "\n",
    "model_1 = transformer(\n",
    "    vocab_size=VOCAB_SIZE,\n",
    "    num_layers=NUM_LAYERS,\n",
    "    units=UNITS,\n",
    "    d_model=D_MODEL,\n",
    "    num_heads=NUM_HEADS,\n",
    "    dropout=DROPOUT)\n",
    "\n",
    "model_1.summary()"
   ]
  },
  {
   "cell_type": "code",
   "execution_count": 56,
   "id": "99fa177b",
   "metadata": {},
   "outputs": [
    {
     "name": "stdout",
     "output_type": "stream",
     "text": [
      "슝=3\n"
     ]
    }
   ],
   "source": [
    "learning_rate = CustomSchedule(D_MODEL)\n",
    "\n",
    "optimizer = tf.keras.optimizers.Adam(\n",
    "    learning_rate, beta_1=0.9, beta_2=0.98, epsilon=1e-9)\n",
    "\n",
    "def accuracy(y_true, y_pred):\n",
    "  y_true = tf.reshape(y_true, shape=(-1, MAX_LENGTH - 1))\n",
    "  return tf.keras.metrics.sparse_categorical_accuracy(y_true, y_pred)\n",
    "\n",
    "model_1.compile(optimizer=optimizer, loss=loss_function, metrics=[accuracy])\n",
    "print(\"슝=3\")"
   ]
  },
  {
   "cell_type": "code",
   "execution_count": 57,
   "id": "9a89e5c1",
   "metadata": {},
   "outputs": [
    {
     "name": "stdout",
     "output_type": "stream",
     "text": [
      "Epoch 1/100\n",
      "185/185 [==============================] - 38s 148ms/step - loss: 1.2022 - accuracy: 0.0216\n",
      "Epoch 2/100\n",
      "185/185 [==============================] - 28s 151ms/step - loss: 1.0387 - accuracy: 0.0257\n",
      "Epoch 3/100\n",
      "185/185 [==============================] - 28s 153ms/step - loss: 0.9641 - accuracy: 0.0272\n",
      "Epoch 4/100\n",
      "185/185 [==============================] - 28s 154ms/step - loss: 0.9143 - accuracy: 0.0305\n",
      "Epoch 5/100\n",
      "185/185 [==============================] - 28s 153ms/step - loss: 0.8572 - accuracy: 0.0340\n",
      "Epoch 6/100\n",
      "185/185 [==============================] - 28s 153ms/step - loss: 0.7888 - accuracy: 0.0391\n",
      "Epoch 7/100\n",
      "185/185 [==============================] - 29s 155ms/step - loss: 0.7141 - accuracy: 0.0462\n",
      "Epoch 8/100\n",
      "185/185 [==============================] - 28s 153ms/step - loss: 0.6336 - accuracy: 0.0550\n",
      "Epoch 9/100\n",
      "185/185 [==============================] - 28s 153ms/step - loss: 0.5488 - accuracy: 0.0645\n",
      "Epoch 10/100\n",
      "185/185 [==============================] - 28s 153ms/step - loss: 0.4657 - accuracy: 0.0748\n",
      "Epoch 11/100\n",
      "185/185 [==============================] - 28s 153ms/step - loss: 0.3849 - accuracy: 0.0858\n",
      "Epoch 12/100\n",
      "185/185 [==============================] - 28s 153ms/step - loss: 0.3099 - accuracy: 0.0958\n",
      "Epoch 13/100\n",
      "185/185 [==============================] - 28s 153ms/step - loss: 0.2448 - accuracy: 0.1049\n",
      "Epoch 14/100\n",
      "185/185 [==============================] - 28s 153ms/step - loss: 0.1928 - accuracy: 0.1129\n",
      "Epoch 15/100\n",
      "185/185 [==============================] - 28s 153ms/step - loss: 0.1518 - accuracy: 0.1190\n",
      "Epoch 16/100\n",
      "185/185 [==============================] - 28s 153ms/step - loss: 0.1229 - accuracy: 0.1238\n",
      "Epoch 17/100\n",
      "185/185 [==============================] - 28s 153ms/step - loss: 0.1012 - accuracy: 0.1272\n",
      "Epoch 18/100\n",
      "185/185 [==============================] - 28s 153ms/step - loss: 0.0875 - accuracy: 0.1294\n",
      "Epoch 19/100\n",
      "185/185 [==============================] - 28s 153ms/step - loss: 0.0810 - accuracy: 0.1304\n",
      "Epoch 20/100\n",
      "185/185 [==============================] - 28s 153ms/step - loss: 0.0761 - accuracy: 0.1311\n",
      "Epoch 21/100\n",
      "185/185 [==============================] - 28s 152ms/step - loss: 0.0736 - accuracy: 0.1313\n",
      "Epoch 22/100\n",
      "185/185 [==============================] - 28s 153ms/step - loss: 0.0725 - accuracy: 0.1314\n",
      "Epoch 23/100\n",
      "185/185 [==============================] - 28s 153ms/step - loss: 0.0653 - accuracy: 0.1331\n",
      "Epoch 24/100\n",
      "185/185 [==============================] - 28s 153ms/step - loss: 0.0575 - accuracy: 0.1347\n",
      "Epoch 25/100\n",
      "185/185 [==============================] - 28s 153ms/step - loss: 0.0518 - accuracy: 0.1362\n",
      "Epoch 26/100\n",
      "185/185 [==============================] - 28s 153ms/step - loss: 0.0467 - accuracy: 0.1374\n",
      "Epoch 27/100\n",
      "185/185 [==============================] - 28s 153ms/step - loss: 0.0417 - accuracy: 0.1385\n",
      "Epoch 28/100\n",
      "185/185 [==============================] - 28s 153ms/step - loss: 0.0384 - accuracy: 0.1395\n",
      "Epoch 29/100\n",
      "185/185 [==============================] - 28s 153ms/step - loss: 0.0347 - accuracy: 0.1403\n",
      "Epoch 30/100\n",
      "185/185 [==============================] - 28s 153ms/step - loss: 0.0326 - accuracy: 0.1408\n",
      "Epoch 31/100\n",
      "185/185 [==============================] - 28s 152ms/step - loss: 0.0300 - accuracy: 0.1414\n",
      "Epoch 32/100\n",
      "185/185 [==============================] - 28s 152ms/step - loss: 0.0279 - accuracy: 0.1422\n",
      "Epoch 33/100\n",
      "185/185 [==============================] - 28s 153ms/step - loss: 0.0257 - accuracy: 0.1428\n",
      "Epoch 34/100\n",
      "185/185 [==============================] - 28s 153ms/step - loss: 0.0243 - accuracy: 0.1432\n",
      "Epoch 35/100\n",
      "185/185 [==============================] - 28s 153ms/step - loss: 0.0222 - accuracy: 0.1438\n",
      "Epoch 36/100\n",
      "185/185 [==============================] - 28s 152ms/step - loss: 0.0208 - accuracy: 0.1441\n",
      "Epoch 37/100\n",
      "185/185 [==============================] - 28s 153ms/step - loss: 0.0196 - accuracy: 0.1444\n",
      "Epoch 38/100\n",
      "185/185 [==============================] - 28s 153ms/step - loss: 0.0179 - accuracy: 0.1448\n",
      "Epoch 39/100\n",
      "185/185 [==============================] - 28s 153ms/step - loss: 0.0181 - accuracy: 0.1446\n",
      "Epoch 40/100\n",
      "185/185 [==============================] - 28s 153ms/step - loss: 0.0165 - accuracy: 0.1452\n",
      "Epoch 41/100\n",
      "185/185 [==============================] - 28s 153ms/step - loss: 0.0163 - accuracy: 0.1452\n",
      "Epoch 42/100\n",
      "185/185 [==============================] - 28s 152ms/step - loss: 0.0150 - accuracy: 0.1456\n",
      "Epoch 43/100\n",
      "185/185 [==============================] - 28s 153ms/step - loss: 0.0151 - accuracy: 0.1455\n",
      "Epoch 44/100\n",
      "185/185 [==============================] - 28s 152ms/step - loss: 0.0143 - accuracy: 0.1458\n",
      "Epoch 45/100\n",
      "185/185 [==============================] - 28s 153ms/step - loss: 0.0132 - accuracy: 0.1461\n",
      "Epoch 46/100\n",
      "185/185 [==============================] - 28s 152ms/step - loss: 0.0128 - accuracy: 0.1463\n",
      "Epoch 47/100\n",
      "185/185 [==============================] - 28s 153ms/step - loss: 0.0125 - accuracy: 0.1463\n",
      "Epoch 48/100\n",
      "185/185 [==============================] - 28s 153ms/step - loss: 0.0117 - accuracy: 0.1465\n",
      "Epoch 49/100\n",
      "185/185 [==============================] - 28s 152ms/step - loss: 0.0113 - accuracy: 0.1466\n",
      "Epoch 50/100\n",
      "185/185 [==============================] - 28s 152ms/step - loss: 0.0113 - accuracy: 0.1465\n",
      "Epoch 51/100\n",
      "185/185 [==============================] - 28s 153ms/step - loss: 0.0108 - accuracy: 0.1467\n",
      "Epoch 52/100\n",
      "185/185 [==============================] - 28s 153ms/step - loss: 0.0097 - accuracy: 0.1470\n",
      "Epoch 53/100\n",
      "185/185 [==============================] - 28s 153ms/step - loss: 0.0103 - accuracy: 0.1468\n",
      "Epoch 54/100\n",
      "185/185 [==============================] - 28s 152ms/step - loss: 0.0096 - accuracy: 0.1470\n",
      "Epoch 55/100\n",
      "185/185 [==============================] - 28s 153ms/step - loss: 0.0090 - accuracy: 0.1471\n",
      "Epoch 56/100\n",
      "185/185 [==============================] - 28s 152ms/step - loss: 0.0090 - accuracy: 0.1472\n",
      "Epoch 57/100\n",
      "185/185 [==============================] - 28s 152ms/step - loss: 0.0088 - accuracy: 0.1472\n",
      "Epoch 58/100\n",
      "185/185 [==============================] - 28s 152ms/step - loss: 0.0083 - accuracy: 0.1473\n",
      "Epoch 59/100\n",
      "185/185 [==============================] - 28s 153ms/step - loss: 0.0087 - accuracy: 0.1472\n",
      "Epoch 60/100\n",
      "185/185 [==============================] - 28s 152ms/step - loss: 0.0078 - accuracy: 0.1474\n",
      "Epoch 61/100\n",
      "185/185 [==============================] - 28s 152ms/step - loss: 0.0077 - accuracy: 0.1475\n",
      "Epoch 62/100\n",
      "185/185 [==============================] - 28s 153ms/step - loss: 0.0079 - accuracy: 0.1475\n",
      "Epoch 63/100\n",
      "185/185 [==============================] - 28s 152ms/step - loss: 0.0072 - accuracy: 0.1475\n",
      "Epoch 64/100\n",
      "185/185 [==============================] - 28s 153ms/step - loss: 0.0071 - accuracy: 0.1476\n",
      "Epoch 65/100\n",
      "185/185 [==============================] - 28s 153ms/step - loss: 0.0074 - accuracy: 0.1475\n",
      "Epoch 66/100\n",
      "185/185 [==============================] - 28s 153ms/step - loss: 0.0069 - accuracy: 0.1476\n",
      "Epoch 67/100\n",
      "185/185 [==============================] - 28s 153ms/step - loss: 0.0069 - accuracy: 0.1477\n",
      "Epoch 68/100\n",
      "185/185 [==============================] - 28s 152ms/step - loss: 0.0071 - accuracy: 0.1476\n",
      "Epoch 69/100\n",
      "185/185 [==============================] - 28s 152ms/step - loss: 0.0063 - accuracy: 0.1478\n",
      "Epoch 70/100\n",
      "185/185 [==============================] - 28s 152ms/step - loss: 0.0063 - accuracy: 0.1478\n",
      "Epoch 71/100\n",
      "185/185 [==============================] - 28s 153ms/step - loss: 0.0062 - accuracy: 0.1478\n",
      "Epoch 72/100\n",
      "185/185 [==============================] - 28s 152ms/step - loss: 0.0061 - accuracy: 0.1478\n",
      "Epoch 73/100\n",
      "185/185 [==============================] - 28s 153ms/step - loss: 0.0062 - accuracy: 0.1479\n",
      "Epoch 74/100\n",
      "185/185 [==============================] - 28s 152ms/step - loss: 0.0056 - accuracy: 0.1479\n",
      "Epoch 75/100\n",
      "185/185 [==============================] - 28s 152ms/step - loss: 0.0055 - accuracy: 0.1480\n",
      "Epoch 76/100\n",
      "185/185 [==============================] - 28s 153ms/step - loss: 0.0057 - accuracy: 0.1479\n",
      "Epoch 77/100\n",
      "185/185 [==============================] - 28s 152ms/step - loss: 0.0055 - accuracy: 0.1479\n",
      "Epoch 78/100\n",
      "185/185 [==============================] - 28s 153ms/step - loss: 0.0052 - accuracy: 0.1480\n",
      "Epoch 79/100\n"
     ]
    },
    {
     "name": "stdout",
     "output_type": "stream",
     "text": [
      "185/185 [==============================] - 28s 153ms/step - loss: 0.0053 - accuracy: 0.1480\n",
      "Epoch 80/100\n",
      "185/185 [==============================] - 28s 153ms/step - loss: 0.0051 - accuracy: 0.1481\n",
      "Epoch 81/100\n",
      "185/185 [==============================] - 28s 153ms/step - loss: 0.0051 - accuracy: 0.1481\n",
      "Epoch 82/100\n",
      "185/185 [==============================] - 28s 153ms/step - loss: 0.0050 - accuracy: 0.1481\n",
      "Epoch 83/100\n",
      "185/185 [==============================] - 28s 153ms/step - loss: 0.0051 - accuracy: 0.1481\n",
      "Epoch 84/100\n",
      "185/185 [==============================] - 28s 153ms/step - loss: 0.0048 - accuracy: 0.1482\n",
      "Epoch 85/100\n",
      "185/185 [==============================] - 28s 153ms/step - loss: 0.0046 - accuracy: 0.1482\n",
      "Epoch 86/100\n",
      "185/185 [==============================] - 28s 153ms/step - loss: 0.0044 - accuracy: 0.1481\n",
      "Epoch 87/100\n",
      "185/185 [==============================] - 28s 153ms/step - loss: 0.0046 - accuracy: 0.1481\n",
      "Epoch 88/100\n",
      "185/185 [==============================] - 28s 153ms/step - loss: 0.0049 - accuracy: 0.1481\n",
      "Epoch 89/100\n",
      "185/185 [==============================] - 28s 152ms/step - loss: 0.0044 - accuracy: 0.1482\n",
      "Epoch 90/100\n",
      "185/185 [==============================] - 28s 153ms/step - loss: 0.0043 - accuracy: 0.1482\n",
      "Epoch 91/100\n",
      "185/185 [==============================] - 28s 153ms/step - loss: 0.0042 - accuracy: 0.1482\n",
      "Epoch 92/100\n",
      "185/185 [==============================] - 28s 152ms/step - loss: 0.0042 - accuracy: 0.1482\n",
      "Epoch 93/100\n",
      "185/185 [==============================] - 28s 153ms/step - loss: 0.0044 - accuracy: 0.1482\n",
      "Epoch 94/100\n",
      "185/185 [==============================] - 28s 153ms/step - loss: 0.0043 - accuracy: 0.1482\n",
      "Epoch 95/100\n",
      "185/185 [==============================] - 28s 153ms/step - loss: 0.0040 - accuracy: 0.1483\n",
      "Epoch 96/100\n",
      "185/185 [==============================] - 28s 153ms/step - loss: 0.0042 - accuracy: 0.1482\n",
      "Epoch 97/100\n",
      "185/185 [==============================] - 28s 153ms/step - loss: 0.0039 - accuracy: 0.1483\n",
      "Epoch 98/100\n",
      "185/185 [==============================] - 28s 153ms/step - loss: 0.0039 - accuracy: 0.1483\n",
      "Epoch 99/100\n",
      "185/185 [==============================] - 28s 153ms/step - loss: 0.0038 - accuracy: 0.1483\n",
      "Epoch 100/100\n",
      "185/185 [==============================] - 28s 153ms/step - loss: 0.0038 - accuracy: 0.1483\n"
     ]
    },
    {
     "data": {
      "text/plain": [
       "<keras.callbacks.History at 0x7f3f8cf62100>"
      ]
     },
     "execution_count": 57,
     "metadata": {},
     "output_type": "execute_result"
    }
   ],
   "source": [
    "EPOCHS = 100\n",
    "model_1.fit(dataset, epochs=EPOCHS, verbose=1)"
   ]
  },
  {
   "cell_type": "code",
   "execution_count": 71,
   "id": "db2aa857",
   "metadata": {},
   "outputs": [
    {
     "name": "stdout",
     "output_type": "stream",
     "text": [
      "슝=3\n"
     ]
    }
   ],
   "source": [
    "def decoder_inference(sentence):\n",
    "  sentence = preprocess_sentence(sentence)\n",
    "\n",
    "  # 입력된 문장을 정수 인코딩 후, 시작 토큰과 종료 토큰을 앞뒤로 추가.\n",
    "  # ex) Where have you been? → [[8331   86   30    5 1059    7 8332]]\n",
    "  sentence = tf.expand_dims(\n",
    "      START_TOKEN + tokenizer.encode(sentence) + END_TOKEN, axis=0)\n",
    "\n",
    "  # 디코더의 현재까지의 예측한 출력 시퀀스가 지속적으로 저장되는 변수.\n",
    "  # 처음에는 예측한 내용이 없음으로 시작 토큰만 별도 저장. ex) 8331\n",
    "  output_sequence = tf.expand_dims(START_TOKEN, 0)\n",
    "\n",
    "  # 디코더의 인퍼런스 단계\n",
    "  for i in range(MAX_LENGTH):\n",
    "    # 디코더는 최대 MAX_LENGTH의 길이만큼 다음 단어 예측을 반복합니다.\n",
    "    predictions = model_1(inputs=[sentence, output_sequence], training=False)\n",
    "    predictions = predictions[:, -1:, :]\n",
    "\n",
    "    # 현재 예측한 단어의 정수\n",
    "    predicted_id = tf.cast(tf.argmax(predictions, axis=-1), tf.int32)\n",
    "\n",
    "    # 만약 현재 예측한 단어가 종료 토큰이라면 for문을 종료\n",
    "    if tf.equal(predicted_id, END_TOKEN[0]):\n",
    "      break\n",
    "\n",
    "    # 예측한 단어들은 지속적으로 output_sequence에 추가됩니다.\n",
    "    # 이 output_sequence는 다시 디코더의 입력이 됩니다.\n",
    "    output_sequence = tf.concat([output_sequence, predicted_id], axis=-1)\n",
    "\n",
    "  return tf.squeeze(output_sequence, axis=0)\n",
    "print(\"슝=3\")"
   ]
  },
  {
   "cell_type": "code",
   "execution_count": 72,
   "id": "be26c7da",
   "metadata": {},
   "outputs": [
    {
     "name": "stdout",
     "output_type": "stream",
     "text": [
      "슝=3\n"
     ]
    }
   ],
   "source": [
    "def sentence_generation(sentence):\n",
    "  # 입력 문장에 대해서 디코더를 동작 시켜 예측된 정수 시퀀스를 리턴받습니다.\n",
    "  prediction = decoder_inference(sentence)\n",
    "\n",
    "  # 정수 시퀀스를 다시 텍스트 시퀀스로 변환합니다.\n",
    "  predicted_sentence = tokenizer.decode(\n",
    "      [i for i in prediction if i < tokenizer.vocab_size])\n",
    "\n",
    "  print('입력 : {}'.format(sentence))\n",
    "  print('출력 : {}'.format(predicted_sentence))\n",
    "\n",
    "  return predicted_sentence\n",
    "print(\"슝=3\")"
   ]
  },
  {
   "cell_type": "code",
   "execution_count": 73,
   "id": "83b825b8",
   "metadata": {},
   "outputs": [
    {
     "name": "stdout",
     "output_type": "stream",
     "text": [
      "입력 : 돈 많이 벌고 싶다\n",
      "출력 : 공부하세요\n"
     ]
    },
    {
     "data": {
      "text/plain": [
       "'공부하세요'"
      ]
     },
     "execution_count": 73,
     "metadata": {},
     "output_type": "execute_result"
    }
   ],
   "source": [
    "sentence_generation('돈 많이 벌고 싶다')"
   ]
  },
  {
   "cell_type": "code",
   "execution_count": 74,
   "id": "dba0ee8a",
   "metadata": {},
   "outputs": [
    {
     "name": "stdout",
     "output_type": "stream",
     "text": [
      "입력 : 오늘 날씨 어때?\n",
      "출력 : 날씨 어플에 물어보세요\n"
     ]
    },
    {
     "data": {
      "text/plain": [
       "'날씨 어플에 물어보세요'"
      ]
     },
     "execution_count": 74,
     "metadata": {},
     "output_type": "execute_result"
    }
   ],
   "source": [
    "sentence_generation('오늘 날씨 어때?')"
   ]
  },
  {
   "cell_type": "code",
   "execution_count": 75,
   "id": "23600ad2",
   "metadata": {},
   "outputs": [
    {
     "name": "stdout",
     "output_type": "stream",
     "text": [
      "입력 : 강아지 좋아해?\n",
      "출력 : 따뜻할 거 같아요\n"
     ]
    },
    {
     "data": {
      "text/plain": [
       "'따뜻할 거 같아요'"
      ]
     },
     "execution_count": 75,
     "metadata": {},
     "output_type": "execute_result"
    }
   ],
   "source": [
    "sentence_generation('강아지 좋아해?')"
   ]
  },
  {
   "cell_type": "code",
   "execution_count": 76,
   "id": "efdf93aa",
   "metadata": {},
   "outputs": [
    {
     "name": "stdout",
     "output_type": "stream",
     "text": [
      "입력 : 주말에 뭐 할까?\n",
      "출력 : 저랑 놀아요\n"
     ]
    },
    {
     "data": {
      "text/plain": [
       "'저랑 놀아요'"
      ]
     },
     "execution_count": 76,
     "metadata": {},
     "output_type": "execute_result"
    }
   ],
   "source": [
    "sentence_generation('주말에 뭐 할까?')"
   ]
  },
  {
   "cell_type": "code",
   "execution_count": 77,
   "id": "b10c2a24",
   "metadata": {},
   "outputs": [
    {
     "name": "stdout",
     "output_type": "stream",
     "text": [
      "입력 : 공부는 어려워\n",
      "출력 : 확신이 없나봐요\n"
     ]
    },
    {
     "data": {
      "text/plain": [
       "'확신이 없나봐요'"
      ]
     },
     "execution_count": 77,
     "metadata": {},
     "output_type": "execute_result"
    }
   ],
   "source": [
    "sentence_generation('공부는 어려워')"
   ]
  },
  {
   "cell_type": "code",
   "execution_count": 78,
   "id": "2fd98594",
   "metadata": {},
   "outputs": [
    {
     "name": "stdout",
     "output_type": "stream",
     "text": [
      "입력 : 어떻게 하면 건강할까?\n",
      "출력 : 주기적으로 해주는 게 좋죠\n"
     ]
    },
    {
     "data": {
      "text/plain": [
       "'주기적으로 해주는 게 좋죠'"
      ]
     },
     "execution_count": 78,
     "metadata": {},
     "output_type": "execute_result"
    }
   ],
   "source": [
    "sentence_generation('어떻게 하면 건강할까?')"
   ]
  },
  {
   "cell_type": "markdown",
   "id": "b9605f21",
   "metadata": {},
   "source": [
    "* '돈 많이 벌고 싶다'라는 말에 '공부하세요'라는 답변주는 것 외에는 큰 변화가 없는 것 같다."
   ]
  },
  {
   "cell_type": "markdown",
   "id": "5a01b84b",
   "metadata": {},
   "source": [
    "### 회고문\n",
    "\n",
    "요즘 많이 사용되는 모델인 만큼 트렌스포머 모델은 꼭 알아둬야 한다고 생각한다. 하지만 새로운 모델 구조이다보니, 이해하는 게 쉽지 않았다 ㅠㅠ 여전히 어려운 게 많고, 코드도 이해가 쉽지 않아서 좀 더 찾아서 공부해야 할 것 같다! 좀 더 추가적인 자료와 논문을 찾아서 노드 내용과 코드를 공부해야겠다.\n",
    "\n",
    "#### K:\n",
    "이번에는 좀 집중력이 떨어졌던 것 같다. 사실 keep해야 할 정도로 잘했던 모습이 없는 것 같아서 반성해야겠다.\n",
    "\n",
    "#### P:\n",
    "집중력이 많이 떨어져서 이번 트랜스포머 모델에 대해서 제대로 공부하지 못 했다. 중요한 모델인만큼 다시 집중해서 공부해야겠다.\n",
    "\n",
    "#### T:\n",
    "위키독스 내용을 여러 번 보면서 공부한다. 코드를 천천히 주석을 달면서 다시 이해하도록 해본다."
   ]
  }
 ],
 "metadata": {
  "kernelspec": {
   "display_name": "Python 3 (ipykernel)",
   "language": "python",
   "name": "python3"
  },
  "language_info": {
   "codemirror_mode": {
    "name": "ipython",
    "version": 3
   },
   "file_extension": ".py",
   "mimetype": "text/x-python",
   "name": "python",
   "nbconvert_exporter": "python",
   "pygments_lexer": "ipython3",
   "version": "3.9.7"
  }
 },
 "nbformat": 4,
 "nbformat_minor": 5
}
